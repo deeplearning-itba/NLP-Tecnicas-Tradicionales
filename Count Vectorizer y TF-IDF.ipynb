{
 "cells": [
  {
   "cell_type": "markdown",
   "metadata": {},
   "source": [
    "# Information Retrieval"
   ]
  },
  {
   "cell_type": "code",
   "execution_count": 1,
   "metadata": {},
   "outputs": [],
   "source": [
    "from sklearn.datasets import fetch_20newsgroups\n",
    "from sklearn.feature_extraction.text import CountVectorizer, TfidfVectorizer\n",
    "from matplotlib import pyplot as plt\n",
    "import numpy as np"
   ]
  },
  {
   "cell_type": "markdown",
   "metadata": {},
   "source": [
    "<img src=\"tf.png\" >\n",
    "<img src=\"idf.png\" >\n",
    "<img src=\"tfidf.png\" >"
   ]
  },
  {
   "cell_type": "code",
   "execution_count": 93,
   "metadata": {},
   "outputs": [],
   "source": [
    "TNG_train = fetch_20newsgroups(subset=\"train\",remove=('headers', 'footers', 'quotes'))"
   ]
  },
  {
   "cell_type": "code",
   "execution_count": 108,
   "metadata": {},
   "outputs": [],
   "source": [
    "#cv = CountVectorizer(ngram_range=[1,1], max_df=0.8, min_df=2, max_features=None, stop_words=\"english\")\n",
    "cv = TfidfVectorizer(ngram_range=[1,2], max_df=0.2, min_df=20, max_features=None, stop_words=\"english\")"
   ]
  },
  {
   "cell_type": "code",
   "execution_count": 109,
   "metadata": {},
   "outputs": [],
   "source": [
    "TNG_cv = cv.fit_transform(TNG_train.data)"
   ]
  },
  {
   "cell_type": "code",
   "execution_count": 110,
   "metadata": {},
   "outputs": [
    {
     "name": "stdout",
     "output_type": "stream",
     "text": [
      "El tamaño del vocabulario es 6573\n"
     ]
    }
   ],
   "source": [
    "#Tamaño del vocabulario\n",
    "print(f'El tamaño del vocabulario es {len(cv.get_feature_names())}')"
   ]
  },
  {
   "cell_type": "markdown",
   "metadata": {},
   "source": [
    "# Cálculo del Document Frecuency de cada palabra"
   ]
  },
  {
   "cell_type": "code",
   "execution_count": 111,
   "metadata": {},
   "outputs": [
    {
     "data": {
      "text/plain": [
       "'I was wondering if anyone out there could enlighten me on this car I saw\\nthe other day. It was a 2-door sports car, looked to be from the late 60s/\\nearly 70s. It was called a Bricklin. The doors were really small. In addition,\\nthe front bumper was separate from the rest of the body. This is \\nall I know. If anyone can tellme a model name, engine specs, years\\nof production, where this car is made, history, or whatever info you\\nhave on this funky looking car, please e-mail.'"
      ]
     },
     "execution_count": 111,
     "metadata": {},
     "output_type": "execute_result"
    }
   ],
   "source": [
    "TNG_train.data[0]"
   ]
  },
  {
   "cell_type": "code",
   "execution_count": 112,
   "metadata": {},
   "outputs": [],
   "source": [
    "doc_freq = np.array(TNG_cv.astype(bool).sum(axis=0)).flatten()"
   ]
  },
  {
   "cell_type": "code",
   "execution_count": 113,
   "metadata": {},
   "outputs": [
    {
     "data": {
      "image/png": "[encoded data removed]",
      "text/plain": [
       "<Figure size 432x288 with 1 Axes>"
      ]
     },
     "metadata": {
      "needs_background": "light"
     },
     "output_type": "display_data"
    }
   ],
   "source": [
    "a = plt.hist(doc_freq, bins=100,log=True)\n",
    "plt.show()"
   ]
  },
  {
   "cell_type": "code",
   "execution_count": 114,
   "metadata": {},
   "outputs": [
    {
     "data": {
      "text/plain": [
       "array([3.93870688, 2.62301163, 0.74380778, ..., 2.15093335, 1.41010202,\n",
       "       0.88348307])"
      ]
     },
     "execution_count": 114,
     "metadata": {},
     "output_type": "execute_result"
    }
   ],
   "source": [
    "np.linalg.norm(TNG_cv.todense(), axis=0)"
   ]
  },
  {
   "cell_type": "code",
   "execution_count": 115,
   "metadata": {},
   "outputs": [],
   "source": [
    "TNG_norm = (TNG_cv.toarray().T/(np.linalg.norm(TNG_cv.toarray(), axis=-1)+1e-8)).T"
   ]
  },
  {
   "cell_type": "code",
   "execution_count": 116,
   "metadata": {},
   "outputs": [
    {
     "data": {
      "text/plain": [
       "(11314, 6573)"
      ]
     },
     "execution_count": 116,
     "metadata": {},
     "output_type": "execute_result"
    }
   ],
   "source": [
    "TNG_norm.shape"
   ]
  },
  {
   "cell_type": "code",
   "execution_count": 117,
   "metadata": {},
   "outputs": [
    {
     "data": {
      "text/plain": [
       "'\\nHi Noel,\\n\\nI\\'ve made some attempts to write a converter that reads Adobe Type 1 fonts,\\ntriangulates them, bevelizes them and extrudes them to result in a generic\\n3d object which could be used with PoV f.i.\\n\\nThe problem I\\'m currently stuck on is that theres no algorithm which\\ntriangulates any arbitrary polygonal shape. Delaunay seems to be limited\\nto convex hulls. Constrained delaunay may be okay, but I have no code\\nexample of how to do it.\\n\\nAnother way to do the bartman may be\\n\\n- TGA2POV\\n- A selfmade variation of this, using heightfields.\\n\\n  Create a b/w picture (BIG) of the text you need, f.i. using a PostScript\\n  previewer. Then, use this as a heightfield. If it is white on black,\\n  the heightfield is exactly the images white parts (it\\'s still open\\n  on the backside). To close it, mirror it and compound it with the original.\\n\\nExample:\\n\\nobject {\\n   union {\\n      height_field { gif \"abp2.gif\" }\\n      height_field { gif \"abp2.gif\" scale <1 -1 1>}\\n   }\\n   texture {\\n      Glass\\n   }\\n   translate <-0.5 0 -0.5>      //center\\n   rotate <-90 0 0>             // rotate upwards\\n   scale  <10 5 100>            // scale bigger and thicker\\n   translate <0 2 0>            // final placement\\n}\\n\\n\\nabp2.gif is a GIF of arbitrary size containing \"ABP\" black on white in\\nTimes-Roman 256 points.\\n'"
      ]
     },
     "execution_count": 117,
     "metadata": {},
     "output_type": "execute_result"
    }
   ],
   "source": [
    "TNG_train.data[87]"
   ]
  },
  {
   "cell_type": "code",
   "execution_count": 118,
   "metadata": {},
   "outputs": [],
   "source": [
    "cosines = np.dot(TNG_norm[87], TNG_norm.T)"
   ]
  },
  {
   "cell_type": "code",
   "execution_count": 119,
   "metadata": {},
   "outputs": [
    {
     "data": {
      "text/plain": [
       "0.9999999800000003"
      ]
     },
     "execution_count": 119,
     "metadata": {},
     "output_type": "execute_result"
    }
   ],
   "source": [
    "max(cosines)"
   ]
  },
  {
   "cell_type": "code",
   "execution_count": 120,
   "metadata": {},
   "outputs": [
    {
     "name": "stdout",
     "output_type": "stream",
     "text": [
      "[0.         0.         0.01081641 ... 0.00304368 0.02910263 0.03393423]\n"
     ]
    }
   ],
   "source": [
    "print(cosines)"
   ]
  },
  {
   "cell_type": "code",
   "execution_count": 107,
   "metadata": {},
   "outputs": [],
   "source": [
    "neigh_idx = np.array(cosines).flatten().argsort()[::-1]"
   ]
  },
  {
   "cell_type": "code",
   "execution_count": 90,
   "metadata": {},
   "outputs": [
    {
     "name": "stdout",
     "output_type": "stream",
     "text": [
      "87\n",
      "\n",
      "Hi Noel,\n",
      "\n",
      "I've made some attempts to write a converter that reads Adobe Type 1 fonts,\n",
      "triangulates them, bevelizes them and extrudes them to result in a generic\n",
      "3d object which could be used with PoV f.i.\n",
      "\n",
      "The problem I'm currently stuck on is that theres no algorithm which\n",
      "triangulates any arbitrary polygonal shape. Delaunay seems to be limited\n",
      "to convex hulls. Constrained delaunay may be okay, but I have no code\n",
      "example of how to do it.\n",
      "\n",
      "Another way to do the bartman may be\n",
      "\n",
      "- TGA2POV\n",
      "- A selfmade variation of this, using heightfields.\n",
      "\n",
      "  Create a b/w picture (BIG) of the text you need, f.i. using a PostScript\n",
      "  previewer. Then, use this as a heightfield. If it is white on black,\n",
      "  the heightfield is exactly the images white parts (it's still open\n",
      "  on the backside). To close it, mirror it and compound it with the original.\n",
      "\n",
      "Example:\n",
      "\n",
      "object {\n",
      "   union {\n",
      "      height_field { gif \"abp2.gif\" }\n",
      "      height_field { gif \"abp2.gif\" scale <1 -1 1>}\n",
      "   }\n",
      "   texture {\n",
      "      Glass\n",
      "   }\n",
      "   translate <-0.5 0 -0.5>      //center\n",
      "   rotate <-90 0 0>             // rotate upwards\n",
      "   scale  <10 5 100>            // scale bigger and thicker\n",
      "   translate <0 2 0>            // final placement\n",
      "}\n",
      "\n",
      "\n",
      "abp2.gif is a GIF of arbitrary size containing \"ABP\" black on white in\n",
      "Times-Roman 256 points.\n",
      "\n",
      "Clase comp.graphics\n",
      "-----------------------------------------------------------------------\n",
      "6604\n",
      "Hello,\n",
      "  I've been trying to bump map a gif onto a sphere for a while and I\n",
      "can't seem to get it to work.  Image mapping works, but not bump\n",
      "mapping.  Here's a simple file I was working with, could some kind\n",
      "soul tell me whats wrong with this.....\n",
      "\n",
      "#include \"colors.inc\"\n",
      "#include \"shapes.inc\"\n",
      "#include \"textures.inc\"\n",
      " \n",
      "camera {\n",
      "  location  <0 1 -3>\n",
      "  direction <0 0 1.5>\n",
      "  up        <0 1 0>\n",
      "  right     <1.33 0 0>\n",
      "  look_at   <0 1 2>\n",
      "}\n",
      " \n",
      "object { light_source { <2 4 -3> color White }\n",
      "       }\n",
      " \n",
      "object {\n",
      "  sphere { <0 1 2> 1 }\n",
      "   texture {\n",
      "     bump_map { 1 <0 1 2> gif \"surf.gif\"}\n",
      "   }\n",
      "}\n",
      "\n",
      "NOTE: surf.gif is a plasma fractal from Fractint that is using the\n",
      "landscape palette map.\n",
      "\n",
      "  \n",
      "\tThanks in advance\n",
      "\t   -Daniel-\n",
      "Clase comp.graphics\n",
      "-----------------------------------------------------------------------\n",
      "9149\n",
      ": I have 19 (2 MB worth!) uuencode'd GIF images contain charts outlining\n",
      ": one of the many alternative Space Station designs being considered in\n",
      ": Crystal City.  [...]\n",
      "\n",
      "I just posted the GIF files out for anonymous FTP on server ics.uci.edu.\n",
      "You can retrieve them from:\n",
      "  ics.uci.edu:incoming/geode01.gif\n",
      "  ics.uci.edu:incoming/geode02.gif\n",
      "  ics.uci.edu:incoming/geode03.gif\n",
      "  ics.uci.edu:incoming/geode04.gif\n",
      "  ics.uci.edu:incoming/geode05.gif\n",
      "  ics.uci.edu:incoming/geode06.gif\n",
      "  ics.uci.edu:incoming/geode07.gif\n",
      "  ics.uci.edu:incoming/geode08.gif\n",
      "  ics.uci.edu:incoming/geode09.gif\n",
      "  ics.uci.edu:incoming/geode10.gif\n",
      "  ics.uci.edu:incoming/geode11.gif\n",
      "  ics.uci.edu:incoming/geode12.gif\n",
      "  ics.uci.edu:incoming/geode13.gif\n",
      "  ics.uci.edu:incoming/geode14.gif\n",
      "  ics.uci.edu:incoming/geode15.gif\n",
      "  ics.uci.edu:incoming/geode16.gif\n",
      "  ics.uci.edu:incoming/geode17.gif\n",
      "  ics.uci.edu:incoming/geodeA.gif\n",
      "  ics.uci.edu:incoming/geodeB.gif\n",
      "\n",
      "The last two are scanned color photos; the others are scanned briefing\n",
      "charts.\n",
      "\n",
      "These will be deleted by the ics.uci.edu system manager in a few days,\n",
      "so now's the time to grab them if you're interested.  Sorry it took\n",
      "me so long to get these out, but I was trying for the Ames server,\n",
      "but it's out of space.\n",
      "\n",
      "-- Ken Jenks, NASA/JSC/GM2, Space Shuttle Program Office\n",
      "      kjenks@gothamcity.jsc.nasa.gov  (713) 483-4368\n",
      "Clase sci.space\n",
      "-----------------------------------------------------------------------\n",
      "2029\n",
      "I'd love to see a Shea Stadium gif.\n",
      "\n",
      "\n",
      "                                    -Sean\n",
      "\n",
      "\n",
      "Clase rec.sport.baseball\n",
      "-----------------------------------------------------------------------\n",
      "10276\n",
      "I have looked through the FAQ sections and have not\n",
      "seen a answer for this.\n",
      "\n",
      "I have an X/Motif application that I have written.\n",
      "I have a couple of gif files (or pict) that I have\n",
      "scanned in with a color scanner.  Now I would like\n",
      "to be able to convert the gif files into a format\n",
      "that could be read into my application and displayed\n",
      "on the background of its main window. Preferably with\n",
      "pixmaps, or perhaps as an XImage.\n",
      "\n",
      "I have found functions in the pbmplus program suite\n",
      "to convert gif to xbm, but that is monochrome, and\n",
      "I really do need color.\n",
      "\n",
      "I have looked at xv, which reads in gif, and writes\n",
      "out several formats, but have not found a way to write\n",
      "out a file which can be read in as a pixmap.\n",
      "\n",
      "Is there an easy way to do this?\n",
      "\n",
      "email responses preferred.\n",
      "\n",
      "thanks!\n",
      "\n",
      "'mark\n",
      "\n",
      "ahlenius@rtsg.mot.com\n",
      "\n",
      "Clase comp.windows.x\n",
      "-----------------------------------------------------------------------\n",
      "5890\n",
      "Hello,\n",
      "\n",
      "Anyone know of any source code I can get to either create window \n",
      "dumps in GIF format, or convert an XWD (x window dump) file \n",
      "into a GIF? Really could be any format I can manipulate in DOS, \n",
      "i.e. PCX, BMP, etc.\n",
      "\n",
      "later,\n",
      "\n",
      "shane\n",
      "\n",
      "Clase comp.windows.x\n",
      "-----------------------------------------------------------------------\n",
      "1967\n",
      "\n",
      "Me too!  I would like any park or action gif or jpeg about baseball.\n",
      "Clase rec.sport.baseball\n",
      "-----------------------------------------------------------------------\n",
      "1373\n",
      "==============================================================================\n",
      "Has anyone created any interesting animations using Dmorph\n",
      "I seem to be unable to create anything that looks remotely\n",
      "realistic although this is probably due to the crappy GIF's\n",
      "at I am using (One of Captain Kirk and One of Spock), i'm a\n",
      "bit of a 'Trekker'.  What are the best type of pictures to use.\n",
      "thanks........\n",
      "            A.Situnayake\n",
      "\n",
      "Clase comp.graphics\n",
      "-----------------------------------------------------------------------\n",
      "3933\n",
      "I was wondering if anyone had any kind of Fenway Park gif.\n",
      "I would appreciate it if someone could send me one.\n",
      "Thanks in advance.\n",
      "Clase rec.sport.baseball\n",
      "-----------------------------------------------------------------------\n",
      "5391\n",
      "Hi guys.\n",
      "\n",
      "I am scanning in a color image and it looks fine on the screen.  When I \n",
      "converted it into PCX,BMP,GIF files so as to get it into MS Windows the colors\n",
      "got much lighter.  For example the yellows became white.  Any ideas?\n",
      "Clase comp.graphics\n",
      "-----------------------------------------------------------------------\n"
     ]
    }
   ],
   "source": [
    "for idx in neigh_idx[0:10]:\n",
    "    print(idx)\n",
    "    print(TNG_train.data[idx])\n",
    "    print(f'Clase {TNG_train.target_names[TNG_train.target[idx]]}')\n",
    "    print(\"-----------------------------------------------------------------------\")"
   ]
  },
  {
   "cell_type": "code",
   "execution_count": null,
   "metadata": {},
   "outputs": [],
   "source": []
  }
 ],
 "metadata": {
  "kernelspec": {
   "display_name": "Python [conda env:NLP]",
   "language": "python",
   "name": "conda-env-NLP-py"
  },
  "language_info": {
   "codemirror_mode": {
    "name": "ipython",
    "version": 3
   },
   "file_extension": ".py",
   "mimetype": "text/x-python",
   "name": "python",
   "nbconvert_exporter": "python",
   "pygments_lexer": "ipython3",
   "version": "3.7.3"
  }
 },
 "nbformat": 4,
 "nbformat_minor": 2
}
