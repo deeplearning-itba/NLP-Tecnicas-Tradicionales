{
 "cells": [
  {
   "cell_type": "markdown",
   "metadata": {},
   "source": [
    "https://medium.com/mlreview/topic-modeling-with-scikit-learn-e80d33668730"
   ]
  },
  {
   "cell_type": "code",
   "execution_count": 6,
   "metadata": {},
   "outputs": [
    {
     "name": "stderr",
     "output_type": "stream",
     "text": [
      "/home/cselmo/anaconda3/envs/OpLaDyn/lib/python3.6/site-packages/sklearn/decomposition/online_lda.py:294: DeprecationWarning: n_topics has been renamed to n_components in version 0.19 and will be removed in 0.21\n",
      "  DeprecationWarning)\n"
     ]
    },
    {
     "name": "stdout",
     "output_type": "stream",
     "text": [
      "Topic 0:\n",
      "people time right did good said say make way government point really years going course long believe state fact world\n",
      "Topic 1:\n",
      "window problem using server application screen display motif manager running widget program problems set error mouse work code fine run\n",
      "Topic 2:\n",
      "god jesus bible christ faith believe christian christians sin church lord hell truth life man love belief say christianity father\n",
      "Topic 3:\n",
      "game team year games season players play hockey win league player teams nhl good runs best better hit division points\n",
      "Topic 4:\n",
      "new 00 sale 10 price offer shipping condition 20 15 50 interested 12 asking 30 space 11 25 used sell\n",
      "Topic 5:\n",
      "thanks mail advance hi looking info help information address appreciated email post know anybody send interested appreciate need reply tell\n",
      "Topic 6:\n",
      "windows file files dos program version ftp ms directory running pc run using os software drivers disk graphics win programs\n",
      "Topic 7:\n",
      "edu soon cs university ftp internet article email pub david send mit au mail subject apr mac directory 1993 export\n",
      "Topic 8:\n",
      "key chip clipper encryption keys escrow government public algorithm nsa security bit phone secure chips des secret data number privacy\n",
      "Topic 9:\n",
      "drive scsi drives hard disk ide floppy controller cd mac internal tape rom cable power computer mb apple switch dos\n",
      "Topic 10:\n",
      "just ll thought tell oh little fine work wanted mean maybe sure bit guess bike way doesn got say bought\n",
      "Topic 11:\n",
      "does know anybody mean work say doesn help exist program info ftp board exactly appreciated getting actually chips message company\n",
      "Topic 12:\n",
      "card video monitor cards drivers bus vga driver color memory ram mode bit pc board graphics controller speed 16 modem\n",
      "Topic 13:\n",
      "like sounds looks look bike sound lot things really thing make doesn doing sure new hear looked nice going idea\n",
      "Topic 14:\n",
      "don know want let need doesn little sure sorry things really ll maybe oh try mean tell look work pretty\n",
      "Topic 15:\n",
      "car cars engine speed good bike driver road insurance fast price buy bought looks drivers power gas radio went year\n",
      "Topic 16:\n",
      "ve got seen heard tried good recently times try couple thing problems help maybe months great years bike used pretty\n",
      "Topic 17:\n",
      "use used using work available want software need image data way mac machine set uses help port good device program\n",
      "Topic 18:\n",
      "think don lot try makes really pretty wasn bit david agree wrong original win better moral come wait important thinking\n",
      "Topic 19:\n",
      "com list dave internet article sun hp email ibm phone reply address away jim mail said paul apr ca mouse\n",
      "Topic 0:\n",
      "people gun state control right guns crime states law police self society laws use weapons country rights don firearms defense\n",
      "Topic 1:\n",
      "time question book years did like don space answer just questions think possible difference long ago work know new case\n",
      "Topic 2:\n",
      "mr line rules science stephanopoulos title current define int yes comments don think does lines david read address ll include\n",
      "Topic 3:\n",
      "key chip keys clipper encryption number des algorithm use bit chips secret phone public used serial message escrow nsa bits\n",
      "Topic 4:\n",
      "edu com cs vs w7 cx mail uk 17 send ca chz al gm lk ah ac address email bh\n",
      "Topic 5:\n",
      "use does window problem way used point different case value using word set mean text example event doesn just like\n",
      "Topic 6:\n",
      "windows thanks know help db does dos problem like using ve hi need use advance ms running looking mail program\n",
      "Topic 7:\n",
      "bike water effect road design media dod paper like turn similar experience area designed don hot probably know try test\n",
      "Topic 8:\n",
      "don just like think know people good ve going say time didn really ll way got want right did said\n",
      "Topic 9:\n",
      "car new price good power used air sale offer ground sell condition old cars 100 like buy 50 engine shipping\n",
      "Topic 10:\n",
      "file available program edu ftp information files use image version data space list software pub server entry sun com info\n",
      "Topic 11:\n",
      "ax max b8f g9v a86 145 pl 1d9 0t 34u 1t 3t giz bhj 2di wm 75u 2tm bxn 7ey\n",
      "Topic 12:\n",
      "government law privacy security legal encryption court fbi technology information enforcement private new public access federal communications administration protect national\n",
      "Topic 13:\n",
      "card bit memory output video color data mode monitor 16 board tape speed bus ram 32 cards display input pc\n",
      "Topic 14:\n",
      "drive scsi disk mac hard apple drives controller software port floppy use ide pc printer pin cable serial hardware computer\n",
      "Topic 15:\n",
      "god jesus people believe christian bible say does life church christians faith christ religion truth true think man know things\n",
      "Topic 16:\n",
      "year game team games season play hockey players league player win teams nhl points san division best runs hit new\n",
      "Topic 17:\n",
      "10 00 15 25 20 11 12 14 16 13 18 30 17 19 21 24 22 23 1993 50\n",
      "Topic 18:\n",
      "armenian israel armenians war people jews turkish israeli said women turkey jewish killed greek world land armenia men turks government\n",
      "Topic 19:\n",
      "president people new said health year university school day work money american time national medical years program office tax jobs\n"
     ]
    }
   ],
   "source": [
    "from sklearn.feature_extraction.text import TfidfVectorizer, CountVectorizer\n",
    "from sklearn.datasets import fetch_20newsgroups\n",
    "from sklearn.decomposition import NMF, LatentDirichletAllocation\n",
    "\n",
    "def display_topics(model, feature_names, no_top_words):\n",
    "    for topic_idx, topic in enumerate(model.components_):\n",
    "        print(\"Topic %d:\" % (topic_idx))\n",
    "        print(\" \".join([feature_names[i]\n",
    "                        for i in topic.argsort()[:-no_top_words - 1:-1]]))\n",
    "\n",
    "dataset = fetch_20newsgroups(shuffle=True, random_state=1, remove=('headers', 'footers', 'quotes'))\n",
    "documents = dataset.data\n",
    "\n",
    "no_features = 1000\n",
    "\n",
    "# NMF is able to use tf-idf\n",
    "tfidf_vectorizer = TfidfVectorizer(max_df=0.95, min_df=2, max_features=no_features, stop_words='english')\n",
    "tfidf = tfidf_vectorizer.fit_transform(documents)\n",
    "tfidf_feature_names = tfidf_vectorizer.get_feature_names()\n",
    "\n",
    "# LDA can only use raw term counts for LDA because it is a probabilistic graphical model\n",
    "tf_vectorizer = CountVectorizer(max_df=0.95, min_df=2, max_features=no_features, stop_words='english')\n",
    "tf = tf_vectorizer.fit_transform(documents)\n",
    "tf_feature_names = tf_vectorizer.get_feature_names()\n",
    "\n",
    "no_topics = 20\n",
    "\n",
    "# Run NMF\n",
    "nmf = NMF(n_components=no_topics, random_state=1, alpha=.1, l1_ratio=.5, init='nndsvd').fit(tfidf)\n",
    "\n",
    "# Run LDA\n",
    "lda = LatentDirichletAllocation(n_topics=no_topics, max_iter=5, learning_method='online', learning_offset=50.,random_state=0).fit(tf)\n",
    "\n",
    "no_top_words = 20\n",
    "display_topics(nmf, tfidf_feature_names, no_top_words)\n",
    "display_topics(lda, tf_feature_names, no_top_words)"
   ]
  },
  {
   "cell_type": "markdown",
   "metadata": {},
   "source": [
    "comparar grupos con topicos\n"
   ]
  }
 ],
 "metadata": {
  "kernelspec": {
   "display_name": "Python (QML)",
   "language": "python",
   "name": "qml"
  },
  "language_info": {
   "codemirror_mode": {
    "name": "ipython",
    "version": 3
   },
   "file_extension": ".py",
   "mimetype": "text/x-python",
   "name": "python",
   "nbconvert_exporter": "python",
   "pygments_lexer": "ipython3",
   "version": "3.6.6"
  }
 },
 "nbformat": 4,
 "nbformat_minor": 2
}
