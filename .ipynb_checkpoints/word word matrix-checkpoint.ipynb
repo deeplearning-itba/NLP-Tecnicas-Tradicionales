{
 "cells": [
  {
   "cell_type": "code",
   "execution_count": 136,
   "metadata": {},
   "outputs": [],
   "source": [
    "from keras.preprocessing.sequence import make_sampling_table, skipgrams\n",
    "from keras.preprocessing.text import Tokenizer\n",
    "from sklearn.datasets import fetch_20newsgroups\n",
    "from sklearn.feature_extraction.text import CountVectorizer, TfidfVectorizer\n",
    "from sklearn.decomposition import TruncatedSVD\n",
    "from scipy.sparse import csr_matrix,lil_matrix\n",
    "from matplotlib import pyplot as plt\n",
    "import numpy as np"
   ]
  },
  {
   "cell_type": "code",
   "execution_count": 137,
   "metadata": {},
   "outputs": [],
   "source": [
    "TNG_train = fetch_20newsgroups(subset=\"train\",remove=('headers', 'footers', 'quotes'))"
   ]
  },
  {
   "cell_type": "code",
   "execution_count": 138,
   "metadata": {},
   "outputs": [],
   "source": [
    "tokenizer = Tokenizer(num_words=10000)"
   ]
  },
  {
   "cell_type": "code",
   "execution_count": 139,
   "metadata": {},
   "outputs": [],
   "source": [
    "tokenizer.fit_on_texts(TNG_train.data)"
   ]
  },
  {
   "cell_type": "code",
   "execution_count": 140,
   "metadata": {},
   "outputs": [],
   "source": [
    "seqs=tokenizer.texts_to_sequences(TNG_train.data)"
   ]
  },
  {
   "cell_type": "code",
   "execution_count": 141,
   "metadata": {},
   "outputs": [
    {
     "data": {
      "text/plain": [
       "[7, 26, 1383, 24, 160, 64, 43, 105, 61, 15]"
      ]
     },
     "execution_count": 141,
     "metadata": {},
     "output_type": "execute_result"
    }
   ],
   "source": [
    "seqs[0][0:10]"
   ]
  },
  {
   "cell_type": "code",
   "execution_count": 142,
   "metadata": {},
   "outputs": [],
   "source": [
    "V = 10001"
   ]
  },
  {
   "cell_type": "code",
   "execution_count": 143,
   "metadata": {},
   "outputs": [
    {
     "data": {
      "text/plain": [
       "10001"
      ]
     },
     "execution_count": 143,
     "metadata": {},
     "output_type": "execute_result"
    }
   ],
   "source": [
    "V"
   ]
  },
  {
   "cell_type": "code",
   "execution_count": 144,
   "metadata": {},
   "outputs": [],
   "source": [
    "data, labels = skipgrams(sequence=seqs[0], vocabulary_size=10001, window_size=5, negative_samples=0, sampling_table=make_sampling_table(V, sampling_factor=1e-5), shuffle=False)"
   ]
  },
  {
   "cell_type": "code",
   "execution_count": 145,
   "metadata": {},
   "outputs": [
    {
     "data": {
      "text/plain": [
       "[[1383, 7],\n",
       " [1383, 26],\n",
       " [1383, 24],\n",
       " [1383, 160],\n",
       " [1383, 64],\n",
       " [1383, 43],\n",
       " [1383, 105],\n",
       " [105, 1383],\n",
       " [105, 24],\n",
       " [105, 160],\n",
       " [105, 64],\n",
       " [105, 43],\n",
       " [105, 61],\n",
       " [105, 15],\n",
       " [105, 14],\n",
       " [105, 312],\n",
       " [105, 7],\n",
       " [26, 587],\n",
       " [26, 1],\n",
       " [26, 73],\n",
       " [26, 262],\n",
       " [26, 11],\n",
       " [26, 5],\n",
       " [26, 29],\n",
       " [26, 1282],\n",
       " [26, 2507],\n",
       " [26, 312],\n",
       " [986, 5],\n",
       " [986, 29],\n",
       " [986, 1282],\n",
       " [986, 2507],\n",
       " [986, 312],\n",
       " [986, 3],\n",
       " [986, 16],\n",
       " [986, 30],\n",
       " [986, 1],\n",
       " [986, 1203],\n",
       " [1203, 986],\n",
       " [1203, 3],\n",
       " [1203, 16],\n",
       " [1203, 30],\n",
       " [1203, 1],\n",
       " [1203, 748],\n",
       " [1203, 11],\n",
       " [1203, 26],\n",
       " [1203, 288],\n",
       " [1203, 5],\n",
       " [3721, 11],\n",
       " [3721, 26],\n",
       " [3721, 288],\n",
       " [3721, 5],\n",
       " [3721, 1],\n",
       " [3721, 68],\n",
       " [3721, 172],\n",
       " [3721, 408],\n",
       " [3721, 8],\n",
       " [3721, 1107],\n",
       " [1107, 3721],\n",
       " [1107, 68],\n",
       " [1107, 172],\n",
       " [1107, 408],\n",
       " [1107, 8],\n",
       " [1107, 1],\n",
       " [1107, 799],\n",
       " [1107, 7710],\n",
       " [1107, 26],\n",
       " [1107, 1604],\n",
       " [7710, 408],\n",
       " [7710, 8],\n",
       " [7710, 1107],\n",
       " [7710, 1],\n",
       " [7710, 799],\n",
       " [7710, 26],\n",
       " [7710, 1604],\n",
       " [7710, 30],\n",
       " [7710, 1],\n",
       " [7710, 691],\n",
       " [1604, 1107],\n",
       " [1604, 1],\n",
       " [1604, 799],\n",
       " [1604, 7710],\n",
       " [1604, 26],\n",
       " [1604, 30],\n",
       " [1604, 1],\n",
       " [1604, 691],\n",
       " [1604, 4],\n",
       " [1604, 1],\n",
       " [691, 7710],\n",
       " [691, 26],\n",
       " [691, 1604],\n",
       " [691, 30],\n",
       " [691, 1],\n",
       " [691, 4],\n",
       " [691, 1],\n",
       " [691, 641],\n",
       " [691, 14],\n",
       " [691, 9],\n",
       " [959, 160],\n",
       " [959, 38],\n",
       " [959, 5],\n",
       " [959, 657],\n",
       " [959, 236],\n",
       " [959, 3069],\n",
       " [959, 179],\n",
       " [959, 4],\n",
       " [959, 2570],\n",
       " [959, 141],\n",
       " [3069, 38],\n",
       " [3069, 5],\n",
       " [3069, 657],\n",
       " [3069, 236],\n",
       " [3069, 959],\n",
       " [3069, 179],\n",
       " [3069, 4],\n",
       " [3069, 2570],\n",
       " [3069, 141],\n",
       " [3069, 14],\n",
       " [312, 179],\n",
       " [312, 4],\n",
       " [312, 2570],\n",
       " [312, 141],\n",
       " [312, 14],\n",
       " [312, 9],\n",
       " [312, 201],\n",
       " [312, 533],\n",
       " [312, 23],\n",
       " [312, 720],\n",
       " [533, 141],\n",
       " [533, 14],\n",
       " [533, 312],\n",
       " [533, 9],\n",
       " [533, 201],\n",
       " [533, 23],\n",
       " [533, 720],\n",
       " [533, 352],\n",
       " [533, 13],\n",
       " [533, 18],\n",
       " [14, 720],\n",
       " [14, 352],\n",
       " [14, 13],\n",
       " [14, 18],\n",
       " [14, 15],\n",
       " [14, 357],\n",
       " [14, 312],\n",
       " [14, 167],\n",
       " [14, 101],\n",
       " [14, 206],\n",
       " [101, 15],\n",
       " [101, 14],\n",
       " [101, 357],\n",
       " [101, 312],\n",
       " [101, 167],\n",
       " [101, 206]]"
      ]
     },
     "execution_count": 145,
     "metadata": {},
     "output_type": "execute_result"
    }
   ],
   "source": [
    "data"
   ]
  },
  {
   "cell_type": "code",
   "execution_count": 261,
   "metadata": {},
   "outputs": [],
   "source": [
    "counts_matrix=lil_matrix((V-1, V-1))"
   ]
  },
  {
   "cell_type": "code",
   "execution_count": 262,
   "metadata": {},
   "outputs": [
    {
     "data": {
      "text/plain": [
       "(2153559,)"
      ]
     },
     "execution_count": 262,
     "metadata": {},
     "output_type": "execute_result"
    }
   ],
   "source": [
    "seqs=np.hstack(seqs)\n",
    "seqs.shape"
   ]
  },
  {
   "cell_type": "code",
   "execution_count": 149,
   "metadata": {},
   "outputs": [],
   "source": [
    "seqs=seqs.astype(int)"
   ]
  },
  {
   "cell_type": "code",
   "execution_count": 197,
   "metadata": {},
   "outputs": [],
   "source": [
    "pairs, labels = skipgrams(sequence=list(seqs), vocabulary_size=V, window_size=5, negative_samples=0, sampling_table=make_sampling_table(V, sampling_factor=1), shuffle=False)\n"
   ]
  },
  {
   "cell_type": "code",
   "execution_count": 198,
   "metadata": {},
   "outputs": [],
   "source": [
    "pairs_u, counts = np.unique(pairs,return_counts=True, axis=0)"
   ]
  },
  {
   "cell_type": "code",
   "execution_count": 199,
   "metadata": {},
   "outputs": [
    {
     "data": {
      "text/plain": [
       "4127750"
      ]
     },
     "execution_count": 199,
     "metadata": {},
     "output_type": "execute_result"
    }
   ],
   "source": [
    "len(pairs_u)"
   ]
  },
  {
   "cell_type": "code",
   "execution_count": 263,
   "metadata": {},
   "outputs": [
    {
     "name": "stdout",
     "output_type": "stream",
     "text": [
      "4127000"
     ]
    }
   ],
   "source": [
    "for num,(pair,count) in enumerate(zip(pairs_u, counts)):\n",
    "    if num%1000 ==0:\n",
    "        print(f'\\r{num}', end=\"\")\n",
    "    counts_matrix[pair[0],pair[1]] += count"
   ]
  },
  {
   "cell_type": "code",
   "execution_count": 264,
   "metadata": {},
   "outputs": [
    {
     "data": {
      "text/plain": [
       "(10000, 10000)"
      ]
     },
     "execution_count": 264,
     "metadata": {},
     "output_type": "execute_result"
    }
   ],
   "source": [
    "counts_matrix.shape"
   ]
  },
  {
   "cell_type": "code",
   "execution_count": 265,
   "metadata": {},
   "outputs": [],
   "source": [
    "red = TruncatedSVD(n_components=300)\n",
    "TNG_cv_red = red.fit_transform(counts_matrix)"
   ]
  },
  {
   "cell_type": "code",
   "execution_count": 266,
   "metadata": {},
   "outputs": [
    {
     "data": {
      "text/plain": [
       "(10000, 300)"
      ]
     },
     "execution_count": 266,
     "metadata": {},
     "output_type": "execute_result"
    }
   ],
   "source": [
    "TNG_cv_red.shape"
   ]
  },
  {
   "cell_type": "code",
   "execution_count": 267,
   "metadata": {},
   "outputs": [],
   "source": [
    "from sklearn.neighbors import NearestNeighbors"
   ]
  },
  {
   "cell_type": "code",
   "execution_count": 268,
   "metadata": {},
   "outputs": [],
   "source": [
    "neigh = NearestNeighbors(n_neighbors=20, metric=\"cosine\")"
   ]
  },
  {
   "cell_type": "code",
   "execution_count": 269,
   "metadata": {},
   "outputs": [
    {
     "data": {
      "text/plain": [
       "NearestNeighbors(algorithm='auto', leaf_size=30, metric='cosine',\n",
       "                 metric_params=None, n_jobs=None, n_neighbors=20, p=2,\n",
       "                 radius=1.0)"
      ]
     },
     "execution_count": 269,
     "metadata": {},
     "output_type": "execute_result"
    }
   ],
   "source": [
    "neigh.fit(TNG_cv_red)"
   ]
  },
  {
   "cell_type": "code",
   "execution_count": 270,
   "metadata": {},
   "outputs": [
    {
     "data": {
      "text/plain": [
       "312"
      ]
     },
     "execution_count": 270,
     "metadata": {},
     "output_type": "execute_result"
    }
   ],
   "source": [
    "tokenizer.word_index[\"car\"]"
   ]
  },
  {
   "cell_type": "code",
   "execution_count": 271,
   "metadata": {},
   "outputs": [],
   "source": [
    "idx_1 = tokenizer.word_index[\"york\"]\n",
    "_, neig = neigh.kneighbors(TNG_cv_red[idx_1:idx_1+1])"
   ]
  },
  {
   "cell_type": "code",
   "execution_count": 272,
   "metadata": {},
   "outputs": [
    {
     "name": "stdout",
     "output_type": "stream",
     "text": [
      "york\n",
      "zealand\n",
      "jersey\n",
      "brand\n",
      "mexico\n",
      "haven\n",
      "testament\n",
      "england\n",
      "publishers\n",
      "height\n",
      "avenue\n",
      "publisher\n",
      "technologies\n",
      "mets\n",
      "islanders\n",
      "212\n",
      "devils\n",
      "metro\n",
      "london\n",
      "washington\n"
     ]
    }
   ],
   "source": [
    "for n in neig[0]:\n",
    "    print(tokenizer.index_word[n])"
   ]
  },
  {
   "cell_type": "markdown",
   "metadata": {},
   "source": [
    "# PPMI"
   ]
  },
  {
   "cell_type": "code",
   "execution_count": null,
   "metadata": {},
   "outputs": [],
   "source": [
    "counts_matrix"
   ]
  },
  {
   "cell_type": "code",
   "execution_count": 288,
   "metadata": {},
   "outputs": [],
   "source": [
    "PMI = np.array(counts_matrix[1:,1:].sum(axis=1))/counts_matrix[1:,1:].sum()"
   ]
  },
  {
   "cell_type": "code",
   "execution_count": 289,
   "metadata": {},
   "outputs": [
    {
     "data": {
      "text/plain": [
       "(9999, 1)"
      ]
     },
     "execution_count": 289,
     "metadata": {},
     "output_type": "execute_result"
    }
   ],
   "source": [
    "PMI.shape"
   ]
  },
  {
   "cell_type": "code",
   "execution_count": 290,
   "metadata": {},
   "outputs": [],
   "source": [
    "probs = counts_matrix[1:,1:]/counts_matrix[1:,1:].sum()"
   ]
  },
  {
   "cell_type": "code",
   "execution_count": 291,
   "metadata": {},
   "outputs": [],
   "source": [
    "PMI = probs/np.dot(PMI, PMI.T)"
   ]
  },
  {
   "cell_type": "code",
   "execution_count": 295,
   "metadata": {},
   "outputs": [
    {
     "data": {
      "text/plain": [
       "array([[ 1.06076475,  0.        ,  1.14286436, ...,  0.        ,\n",
       "         0.        ,  0.12685802],\n",
       "       [ 0.        , 28.21116313,  0.        , ...,  1.95645818,\n",
       "         1.52168969,  1.30430545],\n",
       "       [ 1.1468787 ,  0.        ,  0.87349523, ...,  0.        ,\n",
       "         0.5069733 ,  0.        ],\n",
       "       ...,\n",
       "       [ 0.        ,  1.95645818,  0.        , ...,  0.        ,\n",
       "         0.        ,  0.        ],\n",
       "       [ 0.        ,  1.52168969,  0.5069733 , ...,  0.        ,\n",
       "         0.        ,  0.        ],\n",
       "       [ 0.12685802,  1.30430545,  0.        , ...,  0.        ,\n",
       "         0.        ,  0.        ]])"
      ]
     },
     "execution_count": 295,
     "metadata": {},
     "output_type": "execute_result"
    }
   ],
   "source": [
    "PMI=np.array(PMI)\n",
    "PMI"
   ]
  },
  {
   "cell_type": "code",
   "execution_count": 297,
   "metadata": {},
   "outputs": [],
   "source": [
    "PMI=PMI*(PMI>1)+1e-8"
   ]
  },
  {
   "cell_type": "code",
   "execution_count": 298,
   "metadata": {},
   "outputs": [],
   "source": [
    "PMI = np.log(PMI)"
   ]
  },
  {
   "cell_type": "code",
   "execution_count": 300,
   "metadata": {},
   "outputs": [],
   "source": [
    "PMI=PMI*(PMI>0)+1e-8"
   ]
  },
  {
   "cell_type": "code",
   "execution_count": 301,
   "metadata": {},
   "outputs": [
    {
     "data": {
      "text/plain": [
       "array([[5.89901343e-02, 1.00000000e-08, 1.33537727e-01, ...,\n",
       "        1.00000000e-08, 1.00000000e-08, 1.00000000e-08],\n",
       "       [1.00000000e-08, 3.33971777e+00, 1.00000000e-08, ...,\n",
       "        6.71135800e-01, 4.19821373e-01, 2.65670695e-01],\n",
       "       [1.37044101e-01, 1.00000000e-08, 1.00000000e-08, ...,\n",
       "        1.00000000e-08, 1.00000000e-08, 1.00000000e-08],\n",
       "       ...,\n",
       "       [1.00000000e-08, 6.71135800e-01, 1.00000000e-08, ...,\n",
       "        1.00000000e-08, 1.00000000e-08, 1.00000000e-08],\n",
       "       [1.00000000e-08, 4.19821373e-01, 1.00000000e-08, ...,\n",
       "        1.00000000e-08, 1.00000000e-08, 1.00000000e-08],\n",
       "       [1.00000000e-08, 2.65670695e-01, 1.00000000e-08, ...,\n",
       "        1.00000000e-08, 1.00000000e-08, 1.00000000e-08]])"
      ]
     },
     "execution_count": 301,
     "metadata": {},
     "output_type": "execute_result"
    }
   ],
   "source": [
    "PMI"
   ]
  },
  {
   "cell_type": "code",
   "execution_count": 302,
   "metadata": {},
   "outputs": [
    {
     "ename": "MemoryError",
     "evalue": "",
     "output_type": "error",
     "traceback": [
      "\u001b[0;31m---------------------------------------------------------------------------\u001b[0m",
      "\u001b[0;31mMemoryError\u001b[0m                               Traceback (most recent call last)",
      "\u001b[0;32m<ipython-input-302-e25a015c4039>\u001b[0m in \u001b[0;36m<module>\u001b[0;34m\u001b[0m\n\u001b[1;32m      1\u001b[0m \u001b[0mred\u001b[0m \u001b[0;34m=\u001b[0m \u001b[0mTruncatedSVD\u001b[0m\u001b[0;34m(\u001b[0m\u001b[0mn_components\u001b[0m\u001b[0;34m=\u001b[0m\u001b[0;36m300\u001b[0m\u001b[0;34m)\u001b[0m\u001b[0;34m\u001b[0m\u001b[0;34m\u001b[0m\u001b[0m\n\u001b[0;32m----> 2\u001b[0;31m \u001b[0mTNG_cv_red\u001b[0m \u001b[0;34m=\u001b[0m \u001b[0mred\u001b[0m\u001b[0;34m.\u001b[0m\u001b[0mfit_transform\u001b[0m\u001b[0;34m(\u001b[0m\u001b[0mPMI\u001b[0m\u001b[0;34m)\u001b[0m\u001b[0;34m\u001b[0m\u001b[0;34m\u001b[0m\u001b[0m\n\u001b[0m",
      "\u001b[0;32m~/miniconda3/envs/NLP/lib/python3.7/site-packages/sklearn/decomposition/truncated_svd.py\u001b[0m in \u001b[0;36mfit_transform\u001b[0;34m(self, X, y)\u001b[0m\n\u001b[1;32m    189\u001b[0m             \u001b[0mfull_var\u001b[0m \u001b[0;34m=\u001b[0m \u001b[0mfull_var\u001b[0m\u001b[0;34m.\u001b[0m\u001b[0msum\u001b[0m\u001b[0;34m(\u001b[0m\u001b[0;34m)\u001b[0m\u001b[0;34m\u001b[0m\u001b[0;34m\u001b[0m\u001b[0m\n\u001b[1;32m    190\u001b[0m         \u001b[0;32melse\u001b[0m\u001b[0;34m:\u001b[0m\u001b[0;34m\u001b[0m\u001b[0;34m\u001b[0m\u001b[0m\n\u001b[0;32m--> 191\u001b[0;31m             \u001b[0mfull_var\u001b[0m \u001b[0;34m=\u001b[0m \u001b[0mnp\u001b[0m\u001b[0;34m.\u001b[0m\u001b[0mvar\u001b[0m\u001b[0;34m(\u001b[0m\u001b[0mX\u001b[0m\u001b[0;34m,\u001b[0m \u001b[0maxis\u001b[0m\u001b[0;34m=\u001b[0m\u001b[0;36m0\u001b[0m\u001b[0;34m)\u001b[0m\u001b[0;34m.\u001b[0m\u001b[0msum\u001b[0m\u001b[0;34m(\u001b[0m\u001b[0;34m)\u001b[0m\u001b[0;34m\u001b[0m\u001b[0;34m\u001b[0m\u001b[0m\n\u001b[0m\u001b[1;32m    192\u001b[0m         \u001b[0mself\u001b[0m\u001b[0;34m.\u001b[0m\u001b[0mexplained_variance_ratio_\u001b[0m \u001b[0;34m=\u001b[0m \u001b[0mexp_var\u001b[0m \u001b[0;34m/\u001b[0m \u001b[0mfull_var\u001b[0m\u001b[0;34m\u001b[0m\u001b[0;34m\u001b[0m\u001b[0m\n\u001b[1;32m    193\u001b[0m         \u001b[0mself\u001b[0m\u001b[0;34m.\u001b[0m\u001b[0msingular_values_\u001b[0m \u001b[0;34m=\u001b[0m \u001b[0mSigma\u001b[0m  \u001b[0;31m# Store the singular values.\u001b[0m\u001b[0;34m\u001b[0m\u001b[0;34m\u001b[0m\u001b[0m\n",
      "\u001b[0;32m~/miniconda3/envs/NLP/lib/python3.7/site-packages/numpy/core/fromnumeric.py\u001b[0m in \u001b[0;36mvar\u001b[0;34m(a, axis, dtype, out, ddof, keepdims)\u001b[0m\n\u001b[1;32m   3365\u001b[0m \u001b[0;34m\u001b[0m\u001b[0m\n\u001b[1;32m   3366\u001b[0m     return _methods._var(a, axis=axis, dtype=dtype, out=out, ddof=ddof,\n\u001b[0;32m-> 3367\u001b[0;31m                          **kwargs)\n\u001b[0m\u001b[1;32m   3368\u001b[0m \u001b[0;34m\u001b[0m\u001b[0m\n\u001b[1;32m   3369\u001b[0m \u001b[0;34m\u001b[0m\u001b[0m\n",
      "\u001b[0;32m~/miniconda3/envs/NLP/lib/python3.7/site-packages/numpy/core/_methods.py\u001b[0m in \u001b[0;36m_var\u001b[0;34m(a, axis, dtype, out, ddof, keepdims)\u001b[0m\n\u001b[1;32m    115\u001b[0m     \u001b[0;31m# Note that x may not be inexact and that we need it to be an array,\u001b[0m\u001b[0;34m\u001b[0m\u001b[0;34m\u001b[0m\u001b[0;34m\u001b[0m\u001b[0m\n\u001b[1;32m    116\u001b[0m     \u001b[0;31m# not a scalar.\u001b[0m\u001b[0;34m\u001b[0m\u001b[0;34m\u001b[0m\u001b[0;34m\u001b[0m\u001b[0m\n\u001b[0;32m--> 117\u001b[0;31m     \u001b[0mx\u001b[0m \u001b[0;34m=\u001b[0m \u001b[0masanyarray\u001b[0m\u001b[0;34m(\u001b[0m\u001b[0marr\u001b[0m \u001b[0;34m-\u001b[0m \u001b[0marrmean\u001b[0m\u001b[0;34m)\u001b[0m\u001b[0;34m\u001b[0m\u001b[0;34m\u001b[0m\u001b[0m\n\u001b[0m\u001b[1;32m    118\u001b[0m     \u001b[0;32mif\u001b[0m \u001b[0missubclass\u001b[0m\u001b[0;34m(\u001b[0m\u001b[0marr\u001b[0m\u001b[0;34m.\u001b[0m\u001b[0mdtype\u001b[0m\u001b[0;34m.\u001b[0m\u001b[0mtype\u001b[0m\u001b[0;34m,\u001b[0m \u001b[0mnt\u001b[0m\u001b[0;34m.\u001b[0m\u001b[0mcomplexfloating\u001b[0m\u001b[0;34m)\u001b[0m\u001b[0;34m:\u001b[0m\u001b[0;34m\u001b[0m\u001b[0;34m\u001b[0m\u001b[0m\n\u001b[1;32m    119\u001b[0m         \u001b[0mx\u001b[0m \u001b[0;34m=\u001b[0m \u001b[0mum\u001b[0m\u001b[0;34m.\u001b[0m\u001b[0mmultiply\u001b[0m\u001b[0;34m(\u001b[0m\u001b[0mx\u001b[0m\u001b[0;34m,\u001b[0m \u001b[0mum\u001b[0m\u001b[0;34m.\u001b[0m\u001b[0mconjugate\u001b[0m\u001b[0;34m(\u001b[0m\u001b[0mx\u001b[0m\u001b[0;34m)\u001b[0m\u001b[0;34m,\u001b[0m \u001b[0mout\u001b[0m\u001b[0;34m=\u001b[0m\u001b[0mx\u001b[0m\u001b[0;34m)\u001b[0m\u001b[0;34m.\u001b[0m\u001b[0mreal\u001b[0m\u001b[0;34m\u001b[0m\u001b[0;34m\u001b[0m\u001b[0m\n",
      "\u001b[0;31mMemoryError\u001b[0m: "
     ]
    }
   ],
   "source": [
    "red = TruncatedSVD(n_components=300)\n",
    "TNG_cv_red = red.fit_transform(PMI)"
   ]
  },
  {
   "cell_type": "code",
   "execution_count": 266,
   "metadata": {},
   "outputs": [
    {
     "data": {
      "text/plain": [
       "(10000, 300)"
      ]
     },
     "execution_count": 266,
     "metadata": {},
     "output_type": "execute_result"
    }
   ],
   "source": [
    "TNG_cv_red.shape"
   ]
  },
  {
   "cell_type": "code",
   "execution_count": 267,
   "metadata": {},
   "outputs": [],
   "source": [
    "from sklearn.neighbors import NearestNeighbors"
   ]
  },
  {
   "cell_type": "code",
   "execution_count": 268,
   "metadata": {},
   "outputs": [],
   "source": [
    "neigh = NearestNeighbors(n_neighbors=20, metric=\"cosine\")"
   ]
  },
  {
   "cell_type": "code",
   "execution_count": 269,
   "metadata": {},
   "outputs": [
    {
     "data": {
      "text/plain": [
       "NearestNeighbors(algorithm='auto', leaf_size=30, metric='cosine',\n",
       "                 metric_params=None, n_jobs=None, n_neighbors=20, p=2,\n",
       "                 radius=1.0)"
      ]
     },
     "execution_count": 269,
     "metadata": {},
     "output_type": "execute_result"
    }
   ],
   "source": [
    "neigh.fit(TNG_cv_red)"
   ]
  },
  {
   "cell_type": "code",
   "execution_count": 270,
   "metadata": {},
   "outputs": [
    {
     "data": {
      "text/plain": [
       "312"
      ]
     },
     "execution_count": 270,
     "metadata": {},
     "output_type": "execute_result"
    }
   ],
   "source": [
    "tokenizer.word_index[\"car\"]"
   ]
  },
  {
   "cell_type": "code",
   "execution_count": 271,
   "metadata": {},
   "outputs": [],
   "source": [
    "idx_1 = tokenizer.word_index[\"york\"]\n",
    "_, neig = neigh.kneighbors(TNG_cv_red[idx_1:idx_1+1])"
   ]
  },
  {
   "cell_type": "code",
   "execution_count": 272,
   "metadata": {},
   "outputs": [
    {
     "name": "stdout",
     "output_type": "stream",
     "text": [
      "york\n",
      "zealand\n",
      "jersey\n",
      "brand\n",
      "mexico\n",
      "haven\n",
      "testament\n",
      "england\n",
      "publishers\n",
      "height\n",
      "avenue\n",
      "publisher\n",
      "technologies\n",
      "mets\n",
      "islanders\n",
      "212\n",
      "devils\n",
      "metro\n",
      "london\n",
      "washington\n"
     ]
    }
   ],
   "source": [
    "for n in neig[0]:\n",
    "    print(tokenizer.index_word[n])"
   ]
  },
  {
   "cell_type": "code",
   "execution_count": null,
   "metadata": {},
   "outputs": [],
   "source": []
  }
 ],
 "metadata": {
  "kernelspec": {
   "display_name": "Python [conda env:NLP]",
   "language": "python",
   "name": "conda-env-NLP-py"
  },
  "language_info": {
   "codemirror_mode": {
    "name": "ipython",
    "version": 3
   },
   "file_extension": ".py",
   "mimetype": "text/x-python",
   "name": "python",
   "nbconvert_exporter": "python",
   "pygments_lexer": "ipython3",
   "version": "3.7.3"
  }
 },
 "nbformat": 4,
 "nbformat_minor": 2
}
