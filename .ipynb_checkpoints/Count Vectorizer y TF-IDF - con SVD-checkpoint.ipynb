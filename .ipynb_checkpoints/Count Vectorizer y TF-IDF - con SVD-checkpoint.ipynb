{
 "cells": [
  {
   "cell_type": "markdown",
   "metadata": {},
   "source": [
    "# Information Retrieval"
   ]
  },
  {
   "cell_type": "code",
   "execution_count": 6,
   "metadata": {},
   "outputs": [],
   "source": [
    "from sklearn.datasets import fetch_20newsgroups\n",
    "from sklearn.feature_extraction.text import CountVectorizer, TfidfVectorizer\n",
    "from sklearn.decomposition import TruncatedSVD\n",
    "from matplotlib import pyplot as plt\n",
    "import numpy as np"
   ]
  },
  {
   "cell_type": "code",
   "execution_count": 7,
   "metadata": {},
   "outputs": [],
   "source": [
    "TNG_train = fetch_20newsgroups(subset=\"train\",remove=('headers', 'footers', 'quotes'))"
   ]
  },
  {
   "cell_type": "code",
   "execution_count": 29,
   "metadata": {},
   "outputs": [],
   "source": [
    "#cv = CountVectorizer(ngram_range=[1,1], max_df=1.0, min_df=100, max_features=None, stop_words=\"english\")\n",
    "cv = TfidfVectorizer(ngram_range=[1,1], max_df=1.0, min_df=1, max_features=None, stop_words=\"english\")"
   ]
  },
  {
   "cell_type": "code",
   "execution_count": 15,
   "metadata": {},
   "outputs": [],
   "source": [
    "TNG_cv = cv.fit_transform(TNG_train.data)"
   ]
  },
  {
   "cell_type": "code",
   "execution_count": 16,
   "metadata": {},
   "outputs": [
    {
     "name": "stdout",
     "output_type": "stream",
     "text": [
      "El tamaño del vocabulario es 101322\n"
     ]
    }
   ],
   "source": [
    "#Tamaño del vocabulario\n",
    "print(f'El tamaño del vocabulario es {len(cv.get_feature_names())}')"
   ]
  },
  {
   "cell_type": "code",
   "execution_count": 18,
   "metadata": {},
   "outputs": [],
   "source": [
    "red = TruncatedSVD(n_components=100)\n",
    "TNG_cv_red = red.fit_transform(TNG_cv)"
   ]
  },
  {
   "cell_type": "code",
   "execution_count": 20,
   "metadata": {},
   "outputs": [
    {
     "data": {
      "text/plain": [
       "array([10.47196012,  6.36402977,  5.24888059,  5.12262524,  5.041871  ,\n",
       "        4.84823718,  4.50683078,  4.43746487,  4.3675642 ,  4.18509948,\n",
       "        4.16648865,  3.92322516,  3.84020271,  3.73832383,  3.71776741,\n",
       "        3.7042273 ,  3.66750101,  3.63568536,  3.57815271,  3.51538528,\n",
       "        3.49587261,  3.47903834,  3.44894606,  3.41099395,  3.37435905,\n",
       "        3.35960874,  3.34464028,  3.30732764,  3.29267648,  3.28912462,\n",
       "        3.26025676,  3.25588261,  3.23266174,  3.21260961,  3.20375642,\n",
       "        3.19259724,  3.18734781,  3.16185417,  3.1501911 ,  3.14078656,\n",
       "        3.13239655,  3.1213023 ,  3.11536838,  3.09358659,  3.07158967,\n",
       "        3.05404833,  3.04978894,  3.0376716 ,  3.01951459,  3.00492764,\n",
       "        2.99802991,  2.97483226,  2.97126291,  2.9663036 ,  2.95958737,\n",
       "        2.95703275,  2.93856093,  2.93460875,  2.91281979,  2.90563893,\n",
       "        2.89070889,  2.87709979,  2.87219731,  2.86030728,  2.8497411 ,\n",
       "        2.83238217,  2.8177027 ,  2.81366596,  2.80364376,  2.79877638,\n",
       "        2.78941654,  2.7785127 ,  2.77197391,  2.76511649,  2.75835605,\n",
       "        2.75160349,  2.73751427,  2.7304076 ,  2.71872896,  2.71239944,\n",
       "        2.7049623 ,  2.69496014,  2.69224287,  2.67683182,  2.67515973,\n",
       "        2.66945382,  2.66449118,  2.65279186,  2.64947809,  2.64056768,\n",
       "        2.63249785,  2.62580543,  2.61811931,  2.60534297,  2.59554351,\n",
       "        2.58853459,  2.57564657,  2.56149267,  2.55938364,  2.54588531])"
      ]
     },
     "execution_count": 20,
     "metadata": {},
     "output_type": "execute_result"
    }
   ],
   "source": [
    "np.linalg.norm(TNG_cv_red, axis=0)"
   ]
  },
  {
   "cell_type": "code",
   "execution_count": 21,
   "metadata": {},
   "outputs": [],
   "source": [
    "TNG_norm = (TNG_cv_red.T/(np.linalg.norm(TNG_cv_red, axis=-1)+1e-8)).T"
   ]
  },
  {
   "cell_type": "code",
   "execution_count": 22,
   "metadata": {},
   "outputs": [
    {
     "data": {
      "text/plain": [
       "(11314, 100)"
      ]
     },
     "execution_count": 22,
     "metadata": {},
     "output_type": "execute_result"
    }
   ],
   "source": [
    "TNG_norm.shape"
   ]
  },
  {
   "cell_type": "code",
   "execution_count": 23,
   "metadata": {},
   "outputs": [
    {
     "data": {
      "text/plain": [
       "'I have a line on a Ducati 900GTS 1978 model with 17k on the clock.  Runs\\nvery well, paint is the bronze/brown/orange faded out, leaks a bit of oil\\nand pops out of 1st with hard accel.  The shop will fix trans and oil \\nleak.  They sold the bike to the 1 and only owner.  They want $3495, and\\nI am thinking more like $3K.  Any opinions out there?  Please email me.\\nThanks.  It would be a nice stable mate to the Beemer.  Then I\\'ll get\\na jap bike and call myself Axis Motors!\\n\\n-- \\n-----------------------------------------------------------------------\\n\"Tuba\" (Irwin)      \"I honk therefore I am\"     CompuTrac-Richardson,Tx\\nirwin@cmptrc.lonestar.org    DoD #0826          (R75/6)'"
      ]
     },
     "execution_count": 23,
     "metadata": {},
     "output_type": "execute_result"
    }
   ],
   "source": [
    "TNG_train.data[10]"
   ]
  },
  {
   "cell_type": "code",
   "execution_count": 24,
   "metadata": {},
   "outputs": [],
   "source": [
    "cosines = np.dot(TNG_norm[10], TNG_norm.T)"
   ]
  },
  {
   "cell_type": "code",
   "execution_count": 25,
   "metadata": {},
   "outputs": [
    {
     "data": {
      "text/plain": [
       "0.9999999160975629"
      ]
     },
     "execution_count": 25,
     "metadata": {},
     "output_type": "execute_result"
    }
   ],
   "source": [
    "max(cosines)"
   ]
  },
  {
   "cell_type": "code",
   "execution_count": 26,
   "metadata": {},
   "outputs": [
    {
     "name": "stdout",
     "output_type": "stream",
     "text": [
      "[ 0.04699762  0.15670513  0.23273602 ...  0.0717743  -0.00726875\n",
      "  0.33807195]\n"
     ]
    }
   ],
   "source": [
    "print(cosines)"
   ]
  },
  {
   "cell_type": "code",
   "execution_count": 27,
   "metadata": {},
   "outputs": [],
   "source": [
    "neigh_idx = np.array(cosines).flatten().argsort()[::-1]"
   ]
  },
  {
   "cell_type": "code",
   "execution_count": 28,
   "metadata": {},
   "outputs": [
    {
     "name": "stdout",
     "output_type": "stream",
     "text": [
      "10\n",
      "I have a line on a Ducati 900GTS 1978 model with 17k on the clock.  Runs\n",
      "very well, paint is the bronze/brown/orange faded out, leaks a bit of oil\n",
      "and pops out of 1st with hard accel.  The shop will fix trans and oil \n",
      "leak.  They sold the bike to the 1 and only owner.  They want $3495, and\n",
      "I am thinking more like $3K.  Any opinions out there?  Please email me.\n",
      "Thanks.  It would be a nice stable mate to the Beemer.  Then I'll get\n",
      "a jap bike and call myself Axis Motors!\n",
      "\n",
      "-- \n",
      "-----------------------------------------------------------------------\n",
      "\"Tuba\" (Irwin)      \"I honk therefore I am\"     CompuTrac-Richardson,Tx\n",
      "irwin@cmptrc.lonestar.org    DoD #0826          (R75/6)\n",
      "Clase rec.motorcycles\n",
      "-----------------------------------------------------------------------\n",
      "8084\n",
      "--\n",
      "\n",
      "Thanks to all of you who gave advice on the CB900 Custom. \n",
      "\n",
      "As recommended, I had the bike compression tested.  Compression was\n",
      "a little low, but very even across the four cylinders (+/- 5 psi).  They\n",
      "said that it was tested a little cold, so that would explain the low \n",
      "numbers (around 90).  Does this sound right?  Otherwise, the bike looked\n",
      "great.  No signs of road rash, and no rust.  This bike looks great! \n",
      "It is now in the shop getting tuned and new tires.  \n",
      "I am opting for the Metzler ME55 and ME33 tires (thanks to those \n",
      "who posted this other thread).  This bike is _BIG_ compared to my other bikes.  \n",
      "( Sure is alot harder to load on a trailer than the KDX200 was. )  I should\n",
      "be road legal tomorrow.  I am ignoring the afforementioned concerns about \n",
      "the transmission and taking my chances.\n",
      "\n",
      "Being a reletively new reader, I am quite impressed with all the usefull\n",
      "info available on this newsgroup.  I would ask how to get my own DoD number,\n",
      "but I'll probably be too busy riding ;-).\n",
      "\n",
      "----------------------------------------------------------------------\n",
      "Clase rec.motorcycles\n",
      "-----------------------------------------------------------------------\n",
      "6699\n",
      ": I am in the market for a bike and have recently found a 1990\n",
      ": Honda VRF 750 at a dealership. The bike has about 47,000 miles\n",
      ": and is around $4500. It has had two previous owners, both employees\n",
      ": of the dealership who, I have been told, took very good care of the\n",
      ": bike.\n",
      "\n",
      ": I have two questions: 1) Is this too many miles for a bike? I know this\n",
      ": would not be many miles for a car but I am unfamiliar with the life\n",
      ": span of bikes. 2) Is this a decent price? I am also unfamilar with\n",
      ": prices for used bikes. Is there a blue book for bikes like there is\n",
      ": for cars?.\n",
      "\n",
      ": Thanks for any advice you can give.\n",
      "\n",
      ":                             --Mark\n",
      "\n",
      "\n",
      "Clase rec.motorcycles\n",
      "-----------------------------------------------------------------------\n",
      "9840\n",
      "\n",
      "\n",
      "I'll put in a vote for the latter. A bike\n",
      "takes a lot of involvement, and I for one\n",
      "do not want any accident to be my fault.\n",
      "\n",
      "I remember one artical where the reviewer\n",
      "tried the radio on the bike, not having had\n",
      "one on any of his. He stated that the bike\n",
      "tended to go faster when the music was \n",
      "good. I agree, having felt like this my self,\n",
      "and this was not a physical imparement, like\n",
      "drinking, just the emotional lift from music.\n",
      "\n",
      "First rule of ecology: There is never only one side-effect.\n",
      "\n",
      "Ride Well-\n",
      "\n",
      "Clase rec.motorcycles\n",
      "-----------------------------------------------------------------------\n",
      "2365\n",
      "\n",
      "OK, as one last attempt, I'll take a different tack.\n",
      "\n",
      "We all seem to be in agreement that there are two explanations for why\n",
      "one can use the handlebars to lean a moving motorcycle. The question is,\n",
      "is one of the effect dominant, and which one is it? The idea would be to\n",
      "design an experiment which would seaprate the two characteristics, and\n",
      "see which effect produces a similar result to the one with which those of\n",
      "us who have bikes are familiar.\n",
      "\n",
      "Let's look at the one that, so far, has sparked no controversy on its\n",
      "own, gyroscopic precession. To examine this alone, we would have to\n",
      "get rid of the contact patch effect, by not allowing the contact patches\n",
      "to transmit any force. The wheels and steering mechanism would have to\n",
      "remain, and be attached to a vehicle with about the same weight as a bike,\n",
      "through suspension (so that the wheels transmit forces to the bike the\n",
      "same way) similar to a bikes. An experiment would be to ride a bike along \n",
      "a dry road to get moving and to get the wheels spinning, then change \n",
      "surfaces to something that won't transmit forces through the contact \n",
      "patches, and try a steering manoeuvre to see if the bike leans. It \n",
      "probably would, since some of us know how easy it is to fall down on ice, \n",
      "but we wouldn't get a good idea of how well or what it feels like \n",
      "because, without the contact patches, we can't turn.  Maybe there's a \n",
      "better way. Besides, even ice doesn't get rid of the contact patch\n",
      "forces altogether, so we'd have to find a really frictionless surface.\n",
      "You'd have to try it again with the wheels locked to really know if it\n",
      "was the rotation that did it.\n",
      "\n",
      "Looking at the contact-patch effect only, however, is fairly simple.\n",
      "Now we have to find a vehicle that gets the about the same magnitude and\n",
      "direction of cantact patch forces as a motorcycle, and transmits them\n",
      "about the same way to the vehicle, but without rotating wheels.\n",
      "How it gets the contact patch forces is irrelevant, we're just looking\n",
      "for something that has contact patches that can go straight and not\n",
      "sideways, and skis or skates would do fine. I don't know of any snow-ski\n",
      "or skate bikes, but up here we have the Suzuki Wetbike that is arranged\n",
      "like a motorcycle but has fat water skis where there should be wheels.\n",
      "I think the propellor is in front of the rear ski, or something like\n",
      "that, but we could try it at a coast to get rid of most of its effect.\n",
      "Now I admit that this is second hand info (although I'd love to try\n",
      "one of these), but the review in the local cycle rag and a guy in\n",
      "a bike shop that sells them both say that this machine handles very\n",
      "much like a motorcycle, in that you countersteer it to turn.\n",
      "So we have contact patches that transmit similar forces to a bike's,\n",
      "a similar suspension arrangement, and no gyroscopes, but we do have\n",
      "countersteering.\n",
      "\n",
      "Conclusion: you don't need gyroscopes to countersteer vehicles that have\n",
      "motorcycle-like contact patch arrangements. We still don't know what\n",
      "real effect the gyroscopes have when they're there, but from my observations\n",
      "of how handlebar angle, force, etc. relate to steering in general, I'm \n",
      "willing to bet that they're not the dominant factor in countersteering. \n",
      "\n",
      "If you don't like this conclusion, then don't accept it, but my motorcycle's\n",
      "behaviour is consistent with it. If someone can prove otherwise, go ahead.\n",
      "Clase rec.motorcycles\n",
      "-----------------------------------------------------------------------\n",
      "11064\n",
      "& Can somebody tell me what all the letter spesifications on motorcycle models \n",
      "& really mean. \n",
      "& Example: What means the C, the B and the R in Honda CBR. - Or the V, S, G, L \n",
      "& and P in Suzuki VS750GLP\n",
      "\n",
      "Honda:  a \"V\" designates a V engine street bike. \"VF\" for V-4, \"VT\" for V-twin.\n",
      "\"CB\" is a street bike with an parallel twin or inline 4-cylinder engine.\n",
      "\"R\" used to mean race bike, but is now also used to mean sport bike.\n",
      "\"CL\" was for the old steet scramblers-street bikes with high pipes\n",
      "\"CM\" was a \"custom\" street bike\n",
      "\"CR\" is dirt only two strokes\n",
      "\"XL\" is dual purpose bike\n",
      "\"XR\" was dirt only four stroke, but now can be a dual purpose bike if it has\n",
      "an \"L\" as a suffix.\n",
      "\"GL\" is a touring bike\n",
      "\n",
      "Clase rec.motorcycles\n",
      "-----------------------------------------------------------------------\n",
      "2951\n",
      "\n",
      "\n",
      "\tI'm thinking about becoming a bike owner this year\n",
      "w/o any bike experience thus far.  I figure that getting a \n",
      "decent used bike for under $1K the thing would pay for itself\n",
      "while I'm at grad school (car permits are $$$ where I'm going\n",
      "and who want's to ride a bus).  I'm looking for advice\n",
      "on a first bike - best models/years.  I'm NOT looking for\n",
      "an old loud roaring thing that sounds like a monster.  The\n",
      "quit whirring of newer engines is more to my liking.\n",
      "\n",
      "Apprec any advice.\n",
      "\n",
      "Thanks,\n",
      "Clase rec.motorcycles\n",
      "-----------------------------------------------------------------------\n",
      "4281\n",
      "JL-NS>Subject: Re: Motorcycle Courier (Summer Job)\n",
      "\n",
      "I'd like to thank everyone who replied. I will probably start looking in\n",
      "earnest after May, when I return from my trip down the Pacific Coast\n",
      "(the geographical feature, not the bike).\n",
      "\n",
      "Ryan Cousinetc.|1982 Yamaha Vision XZ550 -Black Pig of Inverness|Live to Ride\n",
      "KotRB          |1958 AJS 500 C/S -King Rat                      |to Work to\n",
      "DoD# 0863      |I'd be a squid if I could afford the bike...    |Flame to\n",
      "ryan.cousineau@compdyn.questor.org  |   Vancouver, BC, Canada   |Live . . .\n",
      "\n",
      "\n",
      " * SLMR 2.1a * Have bike, will travel. Quickly. Very quickly.\n",
      "                                   \n",
      "Clase rec.motorcycles\n",
      "-----------------------------------------------------------------------\n",
      "5735\n",
      "CB>From: behanna@syl.nj.nec.com (Chris BeHanna)\n",
      "\n",
      "CB>>|>\n",
      "CB>>|>  Grf. Dropped my Shoei RF-200 off the seat of my bike while trying to\n",
      "CB>>|> rock\n",
      "CB>>|> it onto it's centerstand, chipped the heck out of the paint on it...\n",
      "\n",
      "CB>        Do I have to be the one to say it?\n",
      "\n",
      "CB>        DON'T BE SO STUPID AS TO LEAVE YOUR HELMET ON THE SEAT WHERE IT CAN\n",
      "CB>        FALL DOWN AND GO BOOM!\n",
      "\n",
      "CB>        HELMETS GO ON THE GROUND, ON A TABLE, ON A CHAIR, ON A SHELF, OR ON\n",
      "CB>        ANY OTHER SURFACE THAT IS LARGE ENOUGH TO SUPPORT THEM SO THAT THEY\n",
      "CB>        WILL NOT EASILY BE KNOCKED DOWN.\n",
      "\n",
      "\n",
      "Another good place for your helmet is your mirror (!). I kid you not. If\n",
      "you own a typical standard or other bike with fairly average mirrors\n",
      "that screw into your handlebars, your helmet should fit over your mirror\n",
      "and be fairly stable. I doubt I have to mention it, but this trick isn't\n",
      "quite so smart on a GoldWing, CBR600, any GSXR, or any bike with\n",
      "fairing-mounted mirrors.\n",
      "\n",
      "I was a little surprised, though, to find that you had your helmet on\n",
      "your seat while you were centerstanding your bike. I usually leave my\n",
      "helmet on until my bike is parked, if for no other reason than I\n",
      "wouldn't want my helmet to be on any surface that I was about to start\n",
      "tilting and jerking . . .\n",
      "\n",
      "Ryan Cousinetc.|1982 Yamaha Vision XZ550 -Black Pig of Inverness|Live to Ride\n",
      "KotRB          |1958 AJS 500 C/S -King Rat                      |to Work to\n",
      "DoD# 0863      |I'd be a squid if I could afford the bike...    |Flame to\n",
      "ryan.cousineau@compdyn.questor.org  |   Vancouver, BC, Canada   |Live . . .\n",
      "\n",
      "I saw the quote below on a pair of Nankai race-replica leathers. I think\n",
      "this sort of phrase is typically known as \"Japlish.\"\n",
      "\n",
      " * SLMR 2.1a * \"Drive Agressively  Rash Magnificently\" -Nankai Leathers\n",
      "                                                                                        \n",
      "Clase rec.motorcycles\n",
      "-----------------------------------------------------------------------\n",
      "9957\n",
      ": I am in the market for a bike and have recently found a 1990\n",
      ": Honda VRF 750 at a dealership. The bike has about 47,000 miles\n",
      ": and is around $4500. It has had two previous owners, both employees\n",
      ": of the dealership who, I have been told, took very good care of the\n",
      ": bike.\n",
      "\n",
      ": I have two questions: 1) Is this too many miles for a bike? I know this\n",
      ": would not be many miles for a car but I am unfamiliar with the life\n",
      ": span of bikes. 2) Is this a decent price? I am also unfamilar with\n",
      ": prices for used bikes. Is there a blue book for bikes like there is\n",
      ": for cars?.\n",
      "\n",
      ": Thanks for any advice you can give.\n",
      "\n",
      ":                             --Mark\n",
      "--\n",
      "\n",
      "Mark,\n",
      "\n",
      "  47k is not too many miles on a VFR750.  I sold my (well maintained)\n",
      "'87 VFR700 with 52k miles on it and the engine was in mint condition.\n",
      "All that the bike needed was steering head bearings and fork bushings\n",
      "and seals.  The guy who bought it had a mechanic pull the valve covers\n",
      "to look at the top end, do a compression check etc.  He confirmed it was\n",
      "mint.\n",
      "\n",
      "   As for price, $4500 seems a little steep.  I bought my '90 with 12k\n",
      "miles on it a year ago (and in absolutely cherry condition) for $4800.\n",
      "There is a bluebook, ask your bank or credit union for the going price.\n",
      "I've seen a couple of ads for VFR's in the $4500 dollar range.  They all\n",
      "said low miles & mint condition but I didn't actually go look at them.\n",
      "\n",
      "   A VFR is a very sweet bike and will last you forever if you maintain\n",
      "it at all.  One thing to look for, BTW, is a soft front end.  If my\n",
      "VFR is any indication, at 12k miles the fork springs were totally shot.\n",
      "Progressive springs ($55) fixed it right up.\n",
      "\n",
      "Good luck,\n",
      "Clase rec.motorcycles\n",
      "-----------------------------------------------------------------------\n"
     ]
    }
   ],
   "source": [
    "for idx in neigh_idx[0:10]:\n",
    "    print(idx)\n",
    "    print(TNG_train.data[idx])\n",
    "    print(f'Clase {TNG_train.target_names[TNG_train.target[idx]]}')\n",
    "    print(\"-----------------------------------------------------------------------\")"
   ]
  },
  {
   "cell_type": "code",
   "execution_count": null,
   "metadata": {},
   "outputs": [],
   "source": []
  }
 ],
 "metadata": {
  "kernelspec": {
   "display_name": "Python [conda env:NLP]",
   "language": "python",
   "name": "conda-env-NLP-py"
  },
  "language_info": {
   "codemirror_mode": {
    "name": "ipython",
    "version": 3
   },
   "file_extension": ".py",
   "mimetype": "text/x-python",
   "name": "python",
   "nbconvert_exporter": "python",
   "pygments_lexer": "ipython3",
   "version": "3.7.3"
  }
 },
 "nbformat": 4,
 "nbformat_minor": 2
}
