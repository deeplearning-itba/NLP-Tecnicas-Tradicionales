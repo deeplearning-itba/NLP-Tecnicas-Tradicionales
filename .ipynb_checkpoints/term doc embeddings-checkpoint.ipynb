{
 "cells": [
  {
   "cell_type": "markdown",
   "metadata": {},
   "source": [
    "# Term Doc Embeddings"
   ]
  },
  {
   "cell_type": "code",
   "execution_count": 1,
   "metadata": {},
   "outputs": [],
   "source": [
    "from sklearn.datasets import fetch_20newsgroups\n",
    "from sklearn.feature_extraction.text import CountVectorizer, TfidfVectorizer\n",
    "from sklearn.decomposition import TruncatedSVD\n",
    "from matplotlib import pyplot as plt\n",
    "import numpy as np"
   ]
  },
  {
   "cell_type": "code",
   "execution_count": 2,
   "metadata": {},
   "outputs": [],
   "source": [
    "TNG_train = fetch_20newsgroups(subset=\"train\",remove=('headers', 'footers', 'quotes'))"
   ]
  },
  {
   "cell_type": "code",
   "execution_count": 216,
   "metadata": {},
   "outputs": [],
   "source": [
    "#cv = CountVectorizer(ngram_range=[1,2], max_df=1.0, min_df=100, max_features=None, stop_words=\"english\")\n",
    "cv = TfidfVectorizer(ngram_range=[1,2], max_df=1.0, min_df=100, max_features=None, stop_words=\"english\")"
   ]
  },
  {
   "cell_type": "code",
   "execution_count": 217,
   "metadata": {},
   "outputs": [],
   "source": [
    "TNG_cv = cv.fit_transform(TNG_train.data)"
   ]
  },
  {
   "cell_type": "code",
   "execution_count": 218,
   "metadata": {},
   "outputs": [
    {
     "name": "stdout",
     "output_type": "stream",
     "text": [
      "El tamaño del vocabulario es 1354\n"
     ]
    }
   ],
   "source": [
    "#Tamaño del vocabulario\n",
    "print(f'El tamaño del vocabulario es {len(cv.get_feature_names())}')"
   ]
  },
  {
   "cell_type": "code",
   "execution_count": 219,
   "metadata": {},
   "outputs": [],
   "source": [
    "red = TruncatedSVD(n_components=300)\n",
    "TNG_cv_red = red.fit_transform(TNG_cv.T)"
   ]
  },
  {
   "cell_type": "markdown",
   "metadata": {},
   "source": [
    "# Test de similitud"
   ]
  },
  {
   "cell_type": "code",
   "execution_count": 220,
   "metadata": {},
   "outputs": [],
   "source": [
    "from sklearn.neighbors import NearestNeighbors"
   ]
  },
  {
   "cell_type": "code",
   "execution_count": 221,
   "metadata": {},
   "outputs": [],
   "source": [
    "neigh = NearestNeighbors(n_neighbors=20, metric=\"cosine\")"
   ]
  },
  {
   "cell_type": "code",
   "execution_count": 222,
   "metadata": {},
   "outputs": [
    {
     "data": {
      "text/plain": [
       "NearestNeighbors(algorithm='auto', leaf_size=30, metric='cosine',\n",
       "                 metric_params=None, n_jobs=None, n_neighbors=20, p=2,\n",
       "                 radius=1.0)"
      ]
     },
     "execution_count": 222,
     "metadata": {},
     "output_type": "execute_result"
    }
   ],
   "source": [
    "neigh.fit(TNG_cv_red)"
   ]
  },
  {
   "cell_type": "code",
   "execution_count": 223,
   "metadata": {},
   "outputs": [],
   "source": [
    "idx_1 = cv.vocabulary_[\"new york\"]\n",
    "_, neig = neigh.kneighbors(TNG_cv_red[idx_1:idx_1+1])"
   ]
  },
  {
   "cell_type": "code",
   "execution_count": 224,
   "metadata": {},
   "outputs": [
    {
     "name": "stdout",
     "output_type": "stream",
     "text": [
      "new york\n",
      "york\n",
      "new\n",
      "washington\n",
      "chicago\n",
      "city\n",
      "ny\n",
      "toronto\n",
      "boston\n",
      "east\n",
      "california\n",
      "times\n",
      "page\n",
      "west\n",
      "division\n",
      "san\n",
      "national\n",
      "st\n",
      "south\n",
      "ed\n"
     ]
    }
   ],
   "source": [
    "for n in neig[0]:\n",
    "    print(cv.get_feature_names()[n])"
   ]
  },
  {
   "cell_type": "markdown",
   "metadata": {},
   "source": [
    "# Test de analogías??"
   ]
  },
  {
   "cell_type": "code",
   "execution_count": 239,
   "metadata": {},
   "outputs": [],
   "source": [
    "idx_1 = cv.vocabulary_[\"man\"]\n",
    "idx_2 = cv.vocabulary_[\"king\"]\n",
    "idx_3 = cv.vocabulary_[\"woman\"]"
   ]
  },
  {
   "cell_type": "code",
   "execution_count": 240,
   "metadata": {},
   "outputs": [],
   "source": [
    "vector = TNG_cv_red[idx_2]-TNG_cv_red[idx_1]+TNG_cv_red[idx_3]"
   ]
  },
  {
   "cell_type": "code",
   "execution_count": 241,
   "metadata": {},
   "outputs": [],
   "source": [
    "_, neig = neigh.kneighbors([vector])"
   ]
  },
  {
   "cell_type": "code",
   "execution_count": 242,
   "metadata": {},
   "outputs": [
    {
     "name": "stdout",
     "output_type": "stream",
     "text": [
      "treatment\n",
      "house\n",
      "head\n",
      "ms\n",
      "ok\n",
      "peace\n",
      "results\n",
      "ny\n",
      "white\n",
      "ed\n",
      "unless\n",
      "dr\n",
      "significant\n",
      "loss\n",
      "federal\n",
      "independent\n",
      "effective\n",
      "fun\n",
      "34\n",
      "accurate\n"
     ]
    }
   ],
   "source": [
    "for n in neig[0]:\n",
    "    print(cv.get_feature_names()[n])"
   ]
  },
  {
   "cell_type": "markdown",
   "metadata": {},
   "source": [
    "# TSNE"
   ]
  },
  {
   "cell_type": "code",
   "execution_count": 243,
   "metadata": {},
   "outputs": [
    {
     "data": {
      "text/plain": [
       "(1354, 2)"
      ]
     },
     "execution_count": 243,
     "metadata": {},
     "output_type": "execute_result"
    }
   ],
   "source": [
    "import numpy as np\n",
    "from sklearn.manifold import TSNE\n",
    "X_embedded = TSNE(n_components=2,metric=\"cosine\").fit_transform(TNG_cv_red)\n",
    "X_embedded.shape\n"
   ]
  },
  {
   "cell_type": "code",
   "execution_count": 244,
   "metadata": {},
   "outputs": [
    {
     "data": {
      "image/png": "[encoded data removed]",
      "text/plain": [
       "<Figure size 1296x1296 with 1 Axes>"
      ]
     },
     "metadata": {
      "needs_background": "light"
     },
     "output_type": "display_data"
    }
   ],
   "source": [
    "from matplotlib import pyplot as plt\n",
    "plt.figure(figsize=[18,18])\n",
    "plt.scatter(X_embedded[:,0],X_embedded[:,1], s=1)\n",
    "words=[\"car\",\"cars\",\"chip\",\"computer\", \"god\", \"jesus\", \"boston\",\"washington\", \"new york\", \"bike\"]\n",
    "for word in words:\n",
    "    idx = cv.vocabulary_[word]\n",
    "    plt.text(X_embedded[idx,0],X_embedded[idx,1],word)"
   ]
  },
  {
   "cell_type": "code",
   "execution_count": null,
   "metadata": {},
   "outputs": [],
   "source": []
  }
 ],
 "metadata": {
  "kernelspec": {
   "display_name": "Python [conda env:NLP]",
   "language": "python",
   "name": "conda-env-NLP-py"
  },
  "language_info": {
   "codemirror_mode": {
    "name": "ipython",
    "version": 3
   },
   "file_extension": ".py",
   "mimetype": "text/x-python",
   "name": "python",
   "nbconvert_exporter": "python",
   "pygments_lexer": "ipython3",
   "version": "3.7.3"
  }
 },
 "nbformat": 4,
 "nbformat_minor": 2
}
