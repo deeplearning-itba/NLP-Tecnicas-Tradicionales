{
 "cells": [
  {
   "cell_type": "markdown",
   "metadata": {},
   "source": [
    "# Information Retrieval"
   ]
  },
  {
   "cell_type": "code",
   "execution_count": 1,
   "metadata": {},
   "outputs": [],
   "source": [
    "from sklearn.datasets import fetch_20newsgroups\n",
    "from sklearn.feature_extraction.text import CountVectorizer, TfidfVectorizer\n",
    "from sklearn.decomposition import TruncatedSVD\n",
    "from matplotlib import pyplot as plt\n",
    "import numpy as np"
   ]
  },
  {
   "cell_type": "code",
   "execution_count": 2,
   "metadata": {},
   "outputs": [],
   "source": [
    "TNG_train = fetch_20newsgroups(subset=\"train\",remove=('headers', 'footers', 'quotes'))"
   ]
  },
  {
   "cell_type": "code",
   "execution_count": 16,
   "metadata": {},
   "outputs": [],
   "source": [
    "#cv = CountVectorizer(ngram_range=[1,1], max_df=1.0, min_df=100, max_features=None, stop_words=\"english\")\n",
    "cv = TfidfVectorizer(ngram_range=[1,1], max_df=1.0, min_df=1, max_features=None, stop_words=\"english\")"
   ]
  },
  {
   "cell_type": "code",
   "execution_count": 17,
   "metadata": {},
   "outputs": [],
   "source": [
    "TNG_cv = cv.fit_transform(TNG_train.data)"
   ]
  },
  {
   "cell_type": "code",
   "execution_count": 18,
   "metadata": {},
   "outputs": [
    {
     "name": "stdout",
     "output_type": "stream",
     "text": [
      "El tamaño del vocabulario es 101322\n"
     ]
    }
   ],
   "source": [
    "#Tamaño del vocabulario\n",
    "print(f'El tamaño del vocabulario es {len(cv.get_feature_names())}')"
   ]
  },
  {
   "cell_type": "code",
   "execution_count": 19,
   "metadata": {},
   "outputs": [],
   "source": [
    "red = TruncatedSVD(n_components=100)\n",
    "TNG_cv_red = red.fit_transform(TNG_cv)"
   ]
  },
  {
   "cell_type": "code",
   "execution_count": 20,
   "metadata": {},
   "outputs": [
    {
     "data": {
      "text/plain": [
       "array([10.47196012,  6.36402976,  5.2488807 ,  5.12262539,  5.04187286,\n",
       "        4.84823676,  4.50684657,  4.43747985,  4.36757948,  4.18510287,\n",
       "        4.16646932,  3.92325194,  3.84018114,  3.73865279,  3.71773287,\n",
       "        3.70417056,  3.66746164,  3.63536594,  3.57778409,  3.51540169,\n",
       "        3.4954344 ,  3.47917025,  3.44907899,  3.41144755,  3.37331013,\n",
       "        3.35894496,  3.34642822,  3.30719101,  3.28899351,  3.28566854,\n",
       "        3.26157513,  3.25883678,  3.2308152 ,  3.2098173 ,  3.19979242,\n",
       "        3.18855115,  3.18329151,  3.15876155,  3.15179686,  3.13905703,\n",
       "        3.13398135,  3.11976565,  3.11751788,  3.09500118,  3.06862792,\n",
       "        3.05273084,  3.04600724,  3.02750666,  3.01413196,  3.00179847,\n",
       "        2.99206959,  2.97815181,  2.97320747,  2.96730844,  2.95845143,\n",
       "        2.94920257,  2.93477644,  2.92957731,  2.91633557,  2.90240867,\n",
       "        2.88323518,  2.88184154,  2.86517021,  2.84601329,  2.83616514,\n",
       "        2.82488978,  2.82094669,  2.81106377,  2.80556904,  2.80298887,\n",
       "        2.79351926,  2.7908316 ,  2.77823017,  2.77228321,  2.75305066,\n",
       "        2.74727137,  2.74093121,  2.72791233,  2.71830757,  2.7166913 ,\n",
       "        2.70816862,  2.69604233,  2.688352  ,  2.68206749,  2.68047526,\n",
       "        2.67161364,  2.66422346,  2.66112221,  2.6540203 ,  2.64118079,\n",
       "        2.63345837,  2.62920488,  2.61670479,  2.60511364,  2.59989259,\n",
       "        2.58462233,  2.5749669 ,  2.56491988,  2.55987898,  2.55599145])"
      ]
     },
     "execution_count": 20,
     "metadata": {},
     "output_type": "execute_result"
    }
   ],
   "source": [
    "np.linalg.norm(TNG_cv_red, axis=0)"
   ]
  },
  {
   "cell_type": "code",
   "execution_count": 21,
   "metadata": {},
   "outputs": [],
   "source": [
    "TNG_norm = (TNG_cv_red.T/(np.linalg.norm(TNG_cv_red, axis=-1)+1e-8)).T"
   ]
  },
  {
   "cell_type": "code",
   "execution_count": 22,
   "metadata": {},
   "outputs": [
    {
     "data": {
      "text/plain": [
       "(11314, 100)"
      ]
     },
     "execution_count": 22,
     "metadata": {},
     "output_type": "execute_result"
    }
   ],
   "source": [
    "TNG_norm.shape"
   ]
  },
  {
   "cell_type": "code",
   "execution_count": 23,
   "metadata": {},
   "outputs": [
    {
     "data": {
      "text/plain": [
       "'I have a line on a Ducati 900GTS 1978 model with 17k on the clock.  Runs\\nvery well, paint is the bronze/brown/orange faded out, leaks a bit of oil\\nand pops out of 1st with hard accel.  The shop will fix trans and oil \\nleak.  They sold the bike to the 1 and only owner.  They want $3495, and\\nI am thinking more like $3K.  Any opinions out there?  Please email me.\\nThanks.  It would be a nice stable mate to the Beemer.  Then I\\'ll get\\na jap bike and call myself Axis Motors!\\n\\n-- \\n-----------------------------------------------------------------------\\n\"Tuba\" (Irwin)      \"I honk therefore I am\"     CompuTrac-Richardson,Tx\\nirwin@cmptrc.lonestar.org    DoD #0826          (R75/6)'"
      ]
     },
     "execution_count": 23,
     "metadata": {},
     "output_type": "execute_result"
    }
   ],
   "source": [
    "TNG_train.data[10]"
   ]
  },
  {
   "cell_type": "code",
   "execution_count": 24,
   "metadata": {},
   "outputs": [],
   "source": [
    "cosines = np.dot(TNG_norm[10], TNG_norm.T)"
   ]
  },
  {
   "cell_type": "code",
   "execution_count": 25,
   "metadata": {},
   "outputs": [
    {
     "data": {
      "text/plain": [
       "0.999999917620073"
      ]
     },
     "execution_count": 25,
     "metadata": {},
     "output_type": "execute_result"
    }
   ],
   "source": [
    "max(cosines)"
   ]
  },
  {
   "cell_type": "code",
   "execution_count": 26,
   "metadata": {},
   "outputs": [
    {
     "name": "stdout",
     "output_type": "stream",
     "text": [
      "[ 0.05381626  0.19308485  0.21596407 ...  0.04211384 -0.05241256\n",
      "  0.34727049]\n"
     ]
    }
   ],
   "source": [
    "print(cosines)"
   ]
  },
  {
   "cell_type": "code",
   "execution_count": 27,
   "metadata": {},
   "outputs": [],
   "source": [
    "neigh_idx = np.array(cosines).flatten().argsort()[::-1]"
   ]
  },
  {
   "cell_type": "code",
   "execution_count": 28,
   "metadata": {},
   "outputs": [
    {
     "name": "stdout",
     "output_type": "stream",
     "text": [
      "10\n",
      "I have a line on a Ducati 900GTS 1978 model with 17k on the clock.  Runs\n",
      "very well, paint is the bronze/brown/orange faded out, leaks a bit of oil\n",
      "and pops out of 1st with hard accel.  The shop will fix trans and oil \n",
      "leak.  They sold the bike to the 1 and only owner.  They want $3495, and\n",
      "I am thinking more like $3K.  Any opinions out there?  Please email me.\n",
      "Thanks.  It would be a nice stable mate to the Beemer.  Then I'll get\n",
      "a jap bike and call myself Axis Motors!\n",
      "\n",
      "-- \n",
      "-----------------------------------------------------------------------\n",
      "\"Tuba\" (Irwin)      \"I honk therefore I am\"     CompuTrac-Richardson,Tx\n",
      "irwin@cmptrc.lonestar.org    DoD #0826          (R75/6)\n",
      "Clase rec.motorcycles\n",
      "-----------------------------------------------------------------------\n",
      "8084\n",
      "--\n",
      "\n",
      "Thanks to all of you who gave advice on the CB900 Custom. \n",
      "\n",
      "As recommended, I had the bike compression tested.  Compression was\n",
      "a little low, but very even across the four cylinders (+/- 5 psi).  They\n",
      "said that it was tested a little cold, so that would explain the low \n",
      "numbers (around 90).  Does this sound right?  Otherwise, the bike looked\n",
      "great.  No signs of road rash, and no rust.  This bike looks great! \n",
      "It is now in the shop getting tuned and new tires.  \n",
      "I am opting for the Metzler ME55 and ME33 tires (thanks to those \n",
      "who posted this other thread).  This bike is _BIG_ compared to my other bikes.  \n",
      "( Sure is alot harder to load on a trailer than the KDX200 was. )  I should\n",
      "be road legal tomorrow.  I am ignoring the afforementioned concerns about \n",
      "the transmission and taking my chances.\n",
      "\n",
      "Being a reletively new reader, I am quite impressed with all the usefull\n",
      "info available on this newsgroup.  I would ask how to get my own DoD number,\n",
      "but I'll probably be too busy riding ;-).\n",
      "\n",
      "----------------------------------------------------------------------\n",
      "Clase rec.motorcycles\n",
      "-----------------------------------------------------------------------\n",
      "6699\n",
      ": I am in the market for a bike and have recently found a 1990\n",
      ": Honda VRF 750 at a dealership. The bike has about 47,000 miles\n",
      ": and is around $4500. It has had two previous owners, both employees\n",
      ": of the dealership who, I have been told, took very good care of the\n",
      ": bike.\n",
      "\n",
      ": I have two questions: 1) Is this too many miles for a bike? I know this\n",
      ": would not be many miles for a car but I am unfamiliar with the life\n",
      ": span of bikes. 2) Is this a decent price? I am also unfamilar with\n",
      ": prices for used bikes. Is there a blue book for bikes like there is\n",
      ": for cars?.\n",
      "\n",
      ": Thanks for any advice you can give.\n",
      "\n",
      ":                             --Mark\n",
      "\n",
      "\n",
      "Clase rec.motorcycles\n",
      "-----------------------------------------------------------------------\n",
      "4975\n",
      "I'm selling the following items...\n",
      "\n",
      "\t- a pair of hard saddle bags \n",
      "\t- easy installation \n",
      "\t- snap release feature with lock\n",
      "\t- black \n",
      "\t- brand is Krusures\n",
      "\n",
      "\t- two oshi full face helmets\n",
      "\n",
      "\ttake all for $275\n",
      "\n",
      "These are comming off of my bike that I'm selling, maybe \n",
      "you could use the whole thing, bike and accessories.\n",
      "\n",
      "\t1983 Yamaha, vision 550 \n",
      "\n",
      "\tcall Medi @ work (415) 940-2306\n",
      "\t\t    home (408) 744-1169\n",
      "\n",
      "Thanks\n",
      "\n",
      "\n",
      "Clase rec.motorcycles\n",
      "-----------------------------------------------------------------------\n",
      "9840\n",
      "\n",
      "\n",
      "I'll put in a vote for the latter. A bike\n",
      "takes a lot of involvement, and I for one\n",
      "do not want any accident to be my fault.\n",
      "\n",
      "I remember one artical where the reviewer\n",
      "tried the radio on the bike, not having had\n",
      "one on any of his. He stated that the bike\n",
      "tended to go faster when the music was \n",
      "good. I agree, having felt like this my self,\n",
      "and this was not a physical imparement, like\n",
      "drinking, just the emotional lift from music.\n",
      "\n",
      "First rule of ecology: There is never only one side-effect.\n",
      "\n",
      "Ride Well-\n",
      "\n",
      "Clase rec.motorcycles\n",
      "-----------------------------------------------------------------------\n",
      "11064\n",
      "& Can somebody tell me what all the letter spesifications on motorcycle models \n",
      "& really mean. \n",
      "& Example: What means the C, the B and the R in Honda CBR. - Or the V, S, G, L \n",
      "& and P in Suzuki VS750GLP\n",
      "\n",
      "Honda:  a \"V\" designates a V engine street bike. \"VF\" for V-4, \"VT\" for V-twin.\n",
      "\"CB\" is a street bike with an parallel twin or inline 4-cylinder engine.\n",
      "\"R\" used to mean race bike, but is now also used to mean sport bike.\n",
      "\"CL\" was for the old steet scramblers-street bikes with high pipes\n",
      "\"CM\" was a \"custom\" street bike\n",
      "\"CR\" is dirt only two strokes\n",
      "\"XL\" is dual purpose bike\n",
      "\"XR\" was dirt only four stroke, but now can be a dual purpose bike if it has\n",
      "an \"L\" as a suffix.\n",
      "\"GL\" is a touring bike\n",
      "\n",
      "Clase rec.motorcycles\n",
      "-----------------------------------------------------------------------\n",
      "7374\n",
      "Hi, I just have a small question about my bike. \n",
      "Being a fairly experienced BMW and MZ-Mechanic, I just don't know what to \n",
      "think about my Honda. \n",
      "She was using too much oil for the last 5000 km (on my trip to Daytona bike \n",
      "week this spring), and all of a sudden, she trailed smoke like hell and \n",
      "was running only on one cylinder. \n",
      "I towed the bike home and took it apart, but everything looks in perfect \n",
      "working order. No cracks in the heads or pistons, the cylinder walls look \n",
      "very clean, and the wear of pistons and cylinders is not measurable. All \n",
      "still within factory specs. The only thing I could find, however, was a \n",
      "slightly bigger ring gap on the right cylinder (the one with the problem), \n",
      "but it is still way below the wear-limit given in the Clymer-manual for \n",
      "this bike. \n",
      "Any syggestions??? What else could cause my problem??? Do I have to hone \n",
      "the cylinder walls (make them a little rougher in a criss-cross-pattern) in \n",
      "order to get better breaking in of my new rings??? Won't that increase the \n",
      "wear of my pistons??\n",
      "Please send comments to \n",
      "\tsruhl@mechanical.watstar.uwaterloo.ca\n",
      "Thanks in advance. Stef. \n",
      "Clase rec.motorcycles\n",
      "-----------------------------------------------------------------------\n",
      "4281\n",
      "JL-NS>Subject: Re: Motorcycle Courier (Summer Job)\n",
      "\n",
      "I'd like to thank everyone who replied. I will probably start looking in\n",
      "earnest after May, when I return from my trip down the Pacific Coast\n",
      "(the geographical feature, not the bike).\n",
      "\n",
      "Ryan Cousinetc.|1982 Yamaha Vision XZ550 -Black Pig of Inverness|Live to Ride\n",
      "KotRB          |1958 AJS 500 C/S -King Rat                      |to Work to\n",
      "DoD# 0863      |I'd be a squid if I could afford the bike...    |Flame to\n",
      "ryan.cousineau@compdyn.questor.org  |   Vancouver, BC, Canada   |Live . . .\n",
      "\n",
      "\n",
      " * SLMR 2.1a * Have bike, will travel. Quickly. Very quickly.\n",
      "                                   \n",
      "Clase rec.motorcycles\n",
      "-----------------------------------------------------------------------\n",
      "9957\n",
      ": I am in the market for a bike and have recently found a 1990\n",
      ": Honda VRF 750 at a dealership. The bike has about 47,000 miles\n",
      ": and is around $4500. It has had two previous owners, both employees\n",
      ": of the dealership who, I have been told, took very good care of the\n",
      ": bike.\n",
      "\n",
      ": I have two questions: 1) Is this too many miles for a bike? I know this\n",
      ": would not be many miles for a car but I am unfamiliar with the life\n",
      ": span of bikes. 2) Is this a decent price? I am also unfamilar with\n",
      ": prices for used bikes. Is there a blue book for bikes like there is\n",
      ": for cars?.\n",
      "\n",
      ": Thanks for any advice you can give.\n",
      "\n",
      ":                             --Mark\n",
      "--\n",
      "\n",
      "Mark,\n",
      "\n",
      "  47k is not too many miles on a VFR750.  I sold my (well maintained)\n",
      "'87 VFR700 with 52k miles on it and the engine was in mint condition.\n",
      "All that the bike needed was steering head bearings and fork bushings\n",
      "and seals.  The guy who bought it had a mechanic pull the valve covers\n",
      "to look at the top end, do a compression check etc.  He confirmed it was\n",
      "mint.\n",
      "\n",
      "   As for price, $4500 seems a little steep.  I bought my '90 with 12k\n",
      "miles on it a year ago (and in absolutely cherry condition) for $4800.\n",
      "There is a bluebook, ask your bank or credit union for the going price.\n",
      "I've seen a couple of ads for VFR's in the $4500 dollar range.  They all\n",
      "said low miles & mint condition but I didn't actually go look at them.\n",
      "\n",
      "   A VFR is a very sweet bike and will last you forever if you maintain\n",
      "it at all.  One thing to look for, BTW, is a soft front end.  If my\n",
      "VFR is any indication, at 12k miles the fork springs were totally shot.\n",
      "Progressive springs ($55) fixed it right up.\n",
      "\n",
      "Good luck,\n",
      "Clase rec.motorcycles\n",
      "-----------------------------------------------------------------------\n",
      "3284\n",
      "}Honda:  a \"V\" designates a V engine street bike. \"VF\" for V-4, \"VT\" for V-twin.\n",
      "\n",
      "So how about my Honda Hawk (NT 650)? It's a twin, but not called a VT.\n",
      "Clase rec.motorcycles\n",
      "-----------------------------------------------------------------------\n"
     ]
    }
   ],
   "source": [
    "for idx in neigh_idx[0:10]:\n",
    "    print(idx)\n",
    "    print(TNG_train.data[idx])\n",
    "    print(f'Clase {TNG_train.target_names[TNG_train.target[idx]]}')\n",
    "    print(\"-----------------------------------------------------------------------\")"
   ]
  },
  {
   "cell_type": "code",
   "execution_count": null,
   "metadata": {},
   "outputs": [],
   "source": []
  },
  {
   "cell_type": "code",
   "execution_count": null,
   "metadata": {},
   "outputs": [],
   "source": []
  }
 ],
 "metadata": {
  "kernelspec": {
   "display_name": "Python [conda env:NLP]",
   "language": "python",
   "name": "conda-env-NLP-py"
  },
  "language_info": {
   "codemirror_mode": {
    "name": "ipython",
    "version": 3
   },
   "file_extension": ".py",
   "mimetype": "text/x-python",
   "name": "python",
   "nbconvert_exporter": "python",
   "pygments_lexer": "ipython3",
   "version": "3.7.3"
  }
 },
 "nbformat": 4,
 "nbformat_minor": 2
}
